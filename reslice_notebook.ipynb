{
 "cells": [
  {
   "cell_type": "code",
   "execution_count": 8,
   "metadata": {},
   "outputs": [],
   "source": [
    "import h5py\n",
    "import numpy as np\n",
    "# import matplotlib.pyplot as plt\n",
    "from tifffile import imwrite, imread, tiffcomment, TiffFile\n",
    "from ome_types import from_tiff\n",
    "from glob import glob\n",
    "import os\n",
    "import affine_matrices as affine\n",
    "from scipy.ndimage import affine_transform\n",
    "from timeit import default_timer as timer\n",
    "from npy2bdv import BdvWriter\n",
    "from napari import Viewer\n",
    "import lxml\n",
    "from datetime import datetime\n",
    "import bdv_functions, fusion_functions\n",
    "import imagej, scyjava\n"
   ]
  },
  {
   "cell_type": "code",
   "execution_count": 2,
   "metadata": {},
   "outputs": [],
   "source": [
    "#tiff_data_dir = \"A:/leo/micromanager/bone_marrow_2nd/aml/data/y_stage_scan_20250117-181620\"\n",
    "#out_dir = \"A:/leo/micromanager/bone_marrow_2nd/aml/data/\"\n",
    "\n",
    "tiff_data_dir = \"G:/Data/dOPM_leo/dopm_data/dan_old/D_and_E_from_d4/data/y_stage_scan_20250116-174521/\"\n",
    "out_dir = \"G:/Data/dOPM_leo/dopm_data/dan_old/D_and_E_from_d4/\"\n"
   ]
  },
  {
   "cell_type": "code",
   "execution_count": null,
   "metadata": {},
   "outputs": [],
   "source": [
    "bdv_dir = bdv_functions.create_bdv_datasets(tiff_data_dir, out_dir, opm_angle=45, max_slices_per_tile=3000)"
   ]
  },
  {
   "cell_type": "code",
   "execution_count": 6,
   "metadata": {},
   "outputs": [],
   "source": [
    "tiff_out_dir = 'G:/Data/dOPM_leo/dopm_data/dan_old/D_and_E_from_d4/fused_tiffs'\n",
    "bdv_dir = 'G:/Data/dOPM_leo/dopm_data/dan_old/D_and_E_from_d4/deskewed_20250127-005527'\n",
    "imagej_dir = \"C:/Users/lnr19/OneDrive - Imperial College London/postdoc_2024/fiji-win64/Fiji.app/\""
   ]
  },
  {
   "cell_type": "code",
   "execution_count": 9,
   "metadata": {},
   "outputs": [
    {
     "name": "stdout",
     "output_type": "stream",
     "text": [
      "Downloading ImageJ with ['sc.fiji:fiji:2.16.0', 'net.preibisch:BigStitcher:2.2.1', 'net.preibisch:multiview-reconstruction:4.3.1']\n"
     ]
    },
    {
     "ename": "RuntimeError",
     "evalue": "Unable to start JVM",
     "output_type": "error",
     "traceback": [
      "\u001b[1;31m---------------------------------------------------------------------------\u001b[0m",
      "\u001b[1;31mRuntimeError\u001b[0m                              Traceback (most recent call last)",
      "Cell \u001b[1;32mIn[9], line 2\u001b[0m\n\u001b[0;32m      1\u001b[0m tiff_out_dir \u001b[38;5;241m=\u001b[39m os\u001b[38;5;241m.\u001b[39mpath\u001b[38;5;241m.\u001b[39mjoin(out_dir, \u001b[38;5;124m\"\u001b[39m\u001b[38;5;124mfused_tiffs\u001b[39m\u001b[38;5;124m\"\u001b[39m)\n\u001b[1;32m----> 2\u001b[0m \u001b[43mfusion_functions\u001b[49m\u001b[38;5;241;43m.\u001b[39;49m\u001b[43mdeskew_bdv_and_save_tiffs\u001b[49m\u001b[43m(\u001b[49m\u001b[43mbdv_dir\u001b[49m\u001b[43m,\u001b[49m\u001b[43m \u001b[49m\u001b[43mtiff_out_dir\u001b[49m\u001b[43m)\u001b[49m\n",
      "File \u001b[1;32mG:\\Data\\dOPM_leo\\dOPM_reslicing\\fusion_functions.py:50\u001b[0m, in \u001b[0;36mdeskew_bdv_and_save_tiffs\u001b[1;34m(bdv_dir, save_dir, pattern, separate_dirs, imagej_instance, imagej_download_options)\u001b[0m\n\u001b[0;32m     43\u001b[0m \u001b[38;5;28;01mdef\u001b[39;00m\u001b[38;5;250m \u001b[39m\u001b[38;5;21mdeskew_bdv_and_save_tiffs\u001b[39m(bdv_dir, save_dir, pattern\u001b[38;5;241m=\u001b[39m\u001b[38;5;124m'\u001b[39m\u001b[38;5;124mpos_*\u001b[39m\u001b[38;5;124m'\u001b[39m,\n\u001b[0;32m     44\u001b[0m                               separate_dirs\u001b[38;5;241m=\u001b[39m\u001b[38;5;28;01mFalse\u001b[39;00m,\n\u001b[0;32m     45\u001b[0m                               imagej_instance\u001b[38;5;241m=\u001b[39m\u001b[38;5;28;01mNone\u001b[39;00m,\n\u001b[0;32m     46\u001b[0m                               imagej_download_options\u001b[38;5;241m=\u001b[39m[\u001b[38;5;124m'\u001b[39m\u001b[38;5;124msc.fiji:fiji:2.16.0\u001b[39m\u001b[38;5;124m'\u001b[39m, \n\u001b[0;32m     47\u001b[0m                                                        \u001b[38;5;124m'\u001b[39m\u001b[38;5;124mnet.preibisch:BigStitcher:2.2.1\u001b[39m\u001b[38;5;124m'\u001b[39m,\n\u001b[0;32m     48\u001b[0m                                                        \u001b[38;5;124m'\u001b[39m\u001b[38;5;124mnet.preibisch:multiview-reconstruction:4.3.1\u001b[39m\u001b[38;5;124m'\u001b[39m],):\n\u001b[0;32m     49\u001b[0m     \u001b[38;5;28;01mif\u001b[39;00m imagej_instance \u001b[38;5;129;01mis\u001b[39;00m \u001b[38;5;28;01mNone\u001b[39;00m:\n\u001b[1;32m---> 50\u001b[0m         ij \u001b[38;5;241m=\u001b[39m \u001b[43mget_imagej_instance\u001b[49m\u001b[43m(\u001b[49m\u001b[43mimagej_download_options\u001b[49m\u001b[43m)\u001b[49m\n\u001b[0;32m     51\u001b[0m     \u001b[38;5;28;01melse\u001b[39;00m:\n\u001b[0;32m     52\u001b[0m         ij \u001b[38;5;241m=\u001b[39m imagej_instance\n",
      "File \u001b[1;32mG:\\Data\\dOPM_leo\\dOPM_reslicing\\fusion_functions.py:32\u001b[0m, in \u001b[0;36mget_imagej_instance\u001b[1;34m(memory_gb, imagej_dir, download_imagej, imagej_mode, imagej_download_options)\u001b[0m\n\u001b[0;32m     30\u001b[0m \u001b[38;5;28;01mif\u001b[39;00m download_imagej:\n\u001b[0;32m     31\u001b[0m     \u001b[38;5;28mprint\u001b[39m(\u001b[38;5;124m\"\u001b[39m\u001b[38;5;124mDownloading ImageJ with\u001b[39m\u001b[38;5;124m\"\u001b[39m, imagej_download_options)\n\u001b[1;32m---> 32\u001b[0m     ij_instance \u001b[38;5;241m=\u001b[39m \u001b[43mimagej\u001b[49m\u001b[38;5;241;43m.\u001b[39;49m\u001b[43minit\u001b[49m\u001b[43m(\u001b[49m\u001b[43mimagej_download_options\u001b[49m\u001b[43m,\u001b[49m\u001b[43m \u001b[49m\u001b[43mmode\u001b[49m\u001b[38;5;241;43m=\u001b[39;49m\u001b[43mimagej_mode\u001b[49m\u001b[43m)\u001b[49m\n\u001b[0;32m     33\u001b[0m \u001b[38;5;28;01melif\u001b[39;00m imagej_dir \u001b[38;5;129;01mis\u001b[39;00m \u001b[38;5;129;01mnot\u001b[39;00m \u001b[38;5;28;01mNone\u001b[39;00m:\n\u001b[0;32m     34\u001b[0m     \u001b[38;5;28mprint\u001b[39m(\u001b[38;5;124mf\u001b[39m\u001b[38;5;124m\"\u001b[39m\u001b[38;5;124mOpening ImageJ from \u001b[39m\u001b[38;5;132;01m{\u001b[39;00mimagej_dir\u001b[38;5;132;01m}\u001b[39;00m\u001b[38;5;124m\"\u001b[39m)\n",
      "File \u001b[1;32m~\\AppData\\Local\\miniforge3\\envs\\dopm_pyimagej\\Lib\\site-packages\\imagej\\__init__.py:1229\u001b[0m, in \u001b[0;36minit\u001b[1;34m(ij_dir_or_version_or_endpoint, mode, add_legacy, headless)\u001b[0m\n\u001b[0;32m   1224\u001b[0m         \u001b[38;5;28;01mraise\u001b[39;00m \u001b[38;5;167;01mEnvironmentError\u001b[39;00m(\n\u001b[0;32m   1225\u001b[0m             \u001b[38;5;124m\"\u001b[39m\u001b[38;5;124mSorry, the interactive mode is not available on macOS.\u001b[39m\u001b[38;5;124m\"\u001b[39m\n\u001b[0;32m   1226\u001b[0m         )\n\u001b[0;32m   1228\u001b[0m \u001b[38;5;28;01mif\u001b[39;00m \u001b[38;5;129;01mnot\u001b[39;00m sj\u001b[38;5;241m.\u001b[39mjvm_started():\n\u001b[1;32m-> 1229\u001b[0m     success \u001b[38;5;241m=\u001b[39m \u001b[43m_create_jvm\u001b[49m\u001b[43m(\u001b[49m\u001b[43mij_dir_or_version_or_endpoint\u001b[49m\u001b[43m,\u001b[49m\u001b[43m \u001b[49m\u001b[43mmode\u001b[49m\u001b[43m,\u001b[49m\u001b[43m \u001b[49m\u001b[43madd_legacy\u001b[49m\u001b[43m)\u001b[49m\n\u001b[0;32m   1230\u001b[0m     \u001b[38;5;28;01mif\u001b[39;00m \u001b[38;5;129;01mnot\u001b[39;00m success:\n\u001b[0;32m   1231\u001b[0m         \u001b[38;5;28;01mraise\u001b[39;00m \u001b[38;5;167;01mRuntimeError\u001b[39;00m(\u001b[38;5;124m\"\u001b[39m\u001b[38;5;124mFailed to create a JVM with the requested environment.\u001b[39m\u001b[38;5;124m\"\u001b[39m)\n",
      "File \u001b[1;32m~\\AppData\\Local\\miniforge3\\envs\\dopm_pyimagej\\Lib\\site-packages\\imagej\\__init__.py:1501\u001b[0m, in \u001b[0;36m_create_jvm\u001b[1;34m(ij_dir_or_version_or_endpoint, mode, add_legacy)\u001b[0m\n\u001b[0;32m   1498\u001b[0m sj\u001b[38;5;241m.\u001b[39mconfig\u001b[38;5;241m.\u001b[39mendpoints\u001b[38;5;241m.\u001b[39mextend(original_endpoints)\n\u001b[0;32m   1500\u001b[0m \u001b[38;5;28;01mtry\u001b[39;00m:\n\u001b[1;32m-> 1501\u001b[0m     \u001b[43msj\u001b[49m\u001b[38;5;241;43m.\u001b[39;49m\u001b[43mstart_jvm\u001b[49m\u001b[43m(\u001b[49m\u001b[43m)\u001b[49m\n\u001b[0;32m   1502\u001b[0m \u001b[38;5;28;01mexcept\u001b[39;00m subprocess\u001b[38;5;241m.\u001b[39mCalledProcessError \u001b[38;5;28;01mas\u001b[39;00m e:\n\u001b[0;32m   1503\u001b[0m     \u001b[38;5;66;03m# Check to see if initialization failed due to \"un-managed\"\u001b[39;00m\n\u001b[0;32m   1504\u001b[0m     \u001b[38;5;66;03m# imagej-legacy\u001b[39;00m\n\u001b[0;32m   1505\u001b[0m     err_lines \u001b[38;5;241m=\u001b[39m []\n",
      "File \u001b[1;32m~\\AppData\\Local\\miniforge3\\envs\\dopm_pyimagej\\Lib\\site-packages\\scyjava\\_jvm.py:182\u001b[0m, in \u001b[0;36mstart_jvm\u001b[1;34m(options)\u001b[0m\n\u001b[0;32m    180\u001b[0m \u001b[38;5;28;01mif\u001b[39;00m options \u001b[38;5;129;01mis\u001b[39;00m \u001b[38;5;28;01mNone\u001b[39;00m:\n\u001b[0;32m    181\u001b[0m     options \u001b[38;5;241m=\u001b[39m scyjava\u001b[38;5;241m.\u001b[39mconfig\u001b[38;5;241m.\u001b[39mget_options()\n\u001b[1;32m--> 182\u001b[0m \u001b[43mjpype\u001b[49m\u001b[38;5;241;43m.\u001b[39;49m\u001b[43mstartJVM\u001b[49m\u001b[43m(\u001b[49m\u001b[38;5;241;43m*\u001b[39;49m\u001b[43moptions\u001b[49m\u001b[43m,\u001b[49m\u001b[43m \u001b[49m\u001b[43minterrupt\u001b[49m\u001b[38;5;241;43m=\u001b[39;49m\u001b[38;5;28;43;01mTrue\u001b[39;49;00m\u001b[43m)\u001b[49m\n\u001b[0;32m    184\u001b[0m \u001b[38;5;66;03m# replace JPype/JVM shutdown handling with our own\u001b[39;00m\n\u001b[0;32m    185\u001b[0m jpype\u001b[38;5;241m.\u001b[39mconfig\u001b[38;5;241m.\u001b[39monexit \u001b[38;5;241m=\u001b[39m \u001b[38;5;28;01mFalse\u001b[39;00m\n",
      "File \u001b[1;32m~\\AppData\\Local\\miniforge3\\envs\\dopm_pyimagej\\Lib\\site-packages\\jpype\\_core.py:298\u001b[0m, in \u001b[0;36mstartJVM\u001b[1;34m(jvmpath, classpath, ignoreUnrecognized, convertStrings, interrupt, *jvmargs)\u001b[0m\n\u001b[0;32m    296\u001b[0m prior \u001b[38;5;241m=\u001b[39m [locale\u001b[38;5;241m.\u001b[39mgetlocale(i) \u001b[38;5;28;01mfor\u001b[39;00m i \u001b[38;5;129;01min\u001b[39;00m categories]\n\u001b[0;32m    297\u001b[0m \u001b[38;5;66;03m# Start the JVM\u001b[39;00m\n\u001b[1;32m--> 298\u001b[0m \u001b[43m_jpype\u001b[49m\u001b[38;5;241;43m.\u001b[39;49m\u001b[43mstartup\u001b[49m\u001b[43m(\u001b[49m\u001b[43mjvmpath\u001b[49m\u001b[43m,\u001b[49m\u001b[43m \u001b[49m\u001b[43mjvmargs\u001b[49m\u001b[43m \u001b[49m\u001b[38;5;241;43m+\u001b[39;49m\u001b[43m \u001b[49m\u001b[38;5;28;43mtuple\u001b[39;49m\u001b[43m(\u001b[49m\u001b[43mextra_jvm_args\u001b[49m\u001b[43m)\u001b[49m\u001b[43m,\u001b[49m\n\u001b[0;32m    299\u001b[0m \u001b[43m               \u001b[49m\u001b[43mignoreUnrecognized\u001b[49m\u001b[43m,\u001b[49m\u001b[43m \u001b[49m\u001b[43mconvertStrings\u001b[49m\u001b[43m,\u001b[49m\u001b[43m \u001b[49m\u001b[43minterrupt\u001b[49m\u001b[43m)\u001b[49m\n\u001b[0;32m    300\u001b[0m \u001b[38;5;66;03m# Collect required resources for operation\u001b[39;00m\n\u001b[0;32m    301\u001b[0m initializeResources()\n",
      "\u001b[1;31mRuntimeError\u001b[0m: Unable to start JVM"
     ]
    }
   ],
   "source": [
    "tiff_out_dir = os.path.join(out_dir, \"fused_tiffs\")\n",
    "fusion_functions.deskew_bdv_and_save_tiffs(bdv_dir, tiff_out_dir)"
   ]
  },
  {
   "cell_type": "code",
   "execution_count": null,
   "metadata": {},
   "outputs": [],
   "source": []
  }
 ],
 "metadata": {
  "kernelspec": {
   "display_name": "Python 3 (ipykernel)",
   "language": "python",
   "name": "python3"
  },
  "language_info": {
   "codemirror_mode": {
    "name": "ipython",
    "version": 3
   },
   "file_extension": ".py",
   "mimetype": "text/x-python",
   "name": "python",
   "nbconvert_exporter": "python",
   "pygments_lexer": "ipython3",
   "version": "3.12.8"
  }
 },
 "nbformat": 4,
 "nbformat_minor": 4
}
