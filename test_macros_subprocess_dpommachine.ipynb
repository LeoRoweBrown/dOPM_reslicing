{
 "cells": [
  {
   "cell_type": "code",
   "execution_count": 2,
   "id": "075f2b48-7075-4911-98bc-1a7655189a6d",
   "metadata": {},
   "outputs": [],
   "source": [
    "import subprocess\n",
    "import fusion_functions"
   ]
  },
  {
   "cell_type": "code",
   "execution_count": 3,
   "id": "34a7cb35-e4ac-4432-a8dc-37a50f2d4126",
   "metadata": {},
   "outputs": [
    {
     "name": "stdout",
     "output_type": "stream",
     "text": [
      "A:/leo_imagej/fiji-win64/fiji-win64/Fiji.app/ImageJ-win64.exe --ij2 --headless --console --run ./testmacro.ijm \"param='leo', param2='rules'\n"
     ]
    },
    {
     "data": {
      "text/plain": [
       "CompletedProcess(args='A:/leo_imagej/fiji-win64/fiji-win64/Fiji.app/ImageJ-win64.exe --ij2 --headless --console --run ./testmacro.ijm \"param=\\'leo\\', param2=\\'rules\\'', returncode=0)"
      ]
     },
     "execution_count": 3,
     "metadata": {},
     "output_type": "execute_result"
    }
   ],
   "source": [
    "image_exe = \"A:/leo_imagej/fiji-win64/fiji-win64/Fiji.app/ImageJ-win64.exe\"\n",
    "cmd = f\"{image_exe} --ij2 --headless --console --run ./testmacro.ijm \\\"param='leo', param2='rules'\"\n",
    "cmd2 = f\"{image_exe} --ij2 --headless --console --run ./testmacro.ijm [param='leo', param2='rules']\"\n",
    "\n",
    "cmd3 = f\"{image_exe} --ij2 --headless --console --run ./testmacro2.ijm\"\n",
    "\n",
    "print(cmd)\n",
    "# subprocess.run(\"dir\", cwd=\"G:/Data/dOPM_leo/dOPM_reslicing\", shell=True)\n",
    "# subprocess.run(cmd, cwd=\"G:/Data/dOPM_leo/dOPM_reslicing\")\n",
    "subprocess.run(cmd, cwd=\"C:/Users/CRICKOPMuser/Documents/Leo/code/dOPM_reslicing\")"
   ]
  },
  {
   "cell_type": "code",
   "execution_count": 1,
   "id": "abdcfc28-9425-44df-9e97-7a2c3f4e2920",
   "metadata": {},
   "outputs": [
    {
     "ename": "NameError",
     "evalue": "name 'fusion_functions' is not defined",
     "output_type": "error",
     "traceback": [
      "\u001b[1;31m---------------------------------------------------------------------------\u001b[0m",
      "\u001b[1;31mNameError\u001b[0m                                 Traceback (most recent call last)",
      "Cell \u001b[1;32mIn[1], line 5\u001b[0m\n\u001b[0;32m      2\u001b[0m out_dir \u001b[38;5;241m=\u001b[39m \u001b[38;5;124m\"\u001b[39m\u001b[38;5;124mA:/leo/micromanager/bone_marrow_2nd/aml/data/deskewed_20250122-222922/pos_p0001/macro_test\u001b[39m\u001b[38;5;124m\"\u001b[39m\n\u001b[0;32m      3\u001b[0m image_dir \u001b[38;5;241m=\u001b[39m \u001b[38;5;124m\"\u001b[39m\u001b[38;5;124mA:/leo_imagej/fiji-win64/fiji-win64/Fiji.app/\u001b[39m\u001b[38;5;124m\"\u001b[39m\n\u001b[1;32m----> 5\u001b[0m \u001b[43mfusion_functions\u001b[49m\u001b[38;5;241m.\u001b[39mrun_image_fusion_macro(in_dir, out_dir, image_dir)\n",
      "\u001b[1;31mNameError\u001b[0m: name 'fusion_functions' is not defined"
     ]
    }
   ],
   "source": [
    "in_dir = \"A:/leo/micromanager/bone_marrow_2nd/aml/data/deskewed_20250122-222922/pos_p0001\"\n",
    "out_dir = \"A:/leo/micromanager/bone_marrow_2nd/aml/data/deskewed_20250122-222922/pos_p0001/macro_test\"\n",
    "image_dir = \"A:/leo_imagej/fiji-win64/fiji-win64/Fiji.app/\"\n",
    "\n",
    "fusion_functions.run_image_fusion_macro(in_dir, out_dir, image_dir)"
   ]
  },
  {
   "cell_type": "code",
   "execution_count": 1,
   "id": "36df585e-49c1-420c-9c4b-4d4edae19dbd",
   "metadata": {},
   "outputs": [],
   "source": [
    "import npy2bdv"
   ]
  },
  {
   "cell_type": "code",
   "execution_count": 3,
   "id": "bc697438-bdc8-4117-bd74-71b43a9b04d4",
   "metadata": {},
   "outputs": [],
   "source": [
    "xml_file = \"A:/leo/micromanager/dan_2/row_b_and_d/row_b2_b3pos2/deskewed_20250204-105116/pos_p0000/dataset.xml\""
   ]
  },
  {
   "cell_type": "code",
   "execution_count": 4,
   "id": "ce405532-0c73-47de-8bc1-84b5eff22823",
   "metadata": {},
   "outputs": [],
   "source": [
    "editor = npy2bdv.BdvEditor(xml_file)"
   ]
  },
  {
   "cell_type": "code",
   "execution_count": 6,
   "id": "0e3446eb-3d5b-4eee-a938-c3ea58939e8e",
   "metadata": {},
   "outputs": [
    {
     "data": {
      "text/plain": [
       "['__class__',\n",
       " '__delattr__',\n",
       " '__dict__',\n",
       " '__dir__',\n",
       " '__doc__',\n",
       " '__eq__',\n",
       " '__format__',\n",
       " '__ge__',\n",
       " '__getattribute__',\n",
       " '__getstate__',\n",
       " '__gt__',\n",
       " '__hash__',\n",
       " '__init__',\n",
       " '__init_subclass__',\n",
       " '__le__',\n",
       " '__lt__',\n",
       " '__module__',\n",
       " '__ne__',\n",
       " '__new__',\n",
       " '__reduce__',\n",
       " '__reduce_ex__',\n",
       " '__repr__',\n",
       " '__setattr__',\n",
       " '__sizeof__',\n",
       " '__str__',\n",
       " '__subclasshook__',\n",
       " '__version__',\n",
       " '__weakref__',\n",
       " '_determine_setup_id',\n",
       " '_file_object_h5',\n",
       " '_fmt',\n",
       " '_get_xml_root',\n",
       " '_root',\n",
       " '_subsample_stack',\n",
       " '_write_pyramids_header',\n",
       " '_xml_indent',\n",
       " 'append_affine',\n",
       " 'compression',\n",
       " 'compressions_supported',\n",
       " 'create_pyramids',\n",
       " 'crop_view',\n",
       " 'filename_h5',\n",
       " 'filename_xml',\n",
       " 'finalize',\n",
       " 'get_attribute_count',\n",
       " 'get_view_property',\n",
       " 'nangles',\n",
       " 'nchannels',\n",
       " 'nilluminations',\n",
       " 'nlevels',\n",
       " 'nsetups',\n",
       " 'ntiles',\n",
       " 'ntimes',\n",
       " 'read_affine',\n",
       " 'read_view']"
      ]
     },
     "execution_count": 6,
     "metadata": {},
     "output_type": "execute_result"
    }
   ],
   "source": [
    "dir(editor)"
   ]
  },
  {
   "cell_type": "code",
   "execution_count": 7,
   "id": "e5d85fb8-b68e-4b3a-ad08-0d704d778a39",
   "metadata": {},
   "outputs": [
    {
     "data": {
      "text/plain": [
       "1"
      ]
     },
     "execution_count": 7,
     "metadata": {},
     "output_type": "execute_result"
    }
   ],
   "source": [
    "editor.nangles"
   ]
  },
  {
   "cell_type": "code",
   "execution_count": null,
   "id": "f89e56f4-7ca9-4b88-b56e-3587e532f768",
   "metadata": {},
   "outputs": [],
   "source": []
  }
 ],
 "metadata": {
  "kernelspec": {
   "display_name": "Python 3 (ipykernel)",
   "language": "python",
   "name": "python3"
  },
  "language_info": {
   "codemirror_mode": {
    "name": "ipython",
    "version": 3
   },
   "file_extension": ".py",
   "mimetype": "text/x-python",
   "name": "python",
   "nbconvert_exporter": "python",
   "pygments_lexer": "ipython3",
   "version": "3.12.8"
  }
 },
 "nbformat": 4,
 "nbformat_minor": 5
}
