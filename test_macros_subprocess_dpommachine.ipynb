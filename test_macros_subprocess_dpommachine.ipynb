{
 "cells": [
  {
   "cell_type": "code",
   "execution_count": 2,
   "id": "075f2b48-7075-4911-98bc-1a7655189a6d",
   "metadata": {},
   "outputs": [],
   "source": [
    "import subprocess\n",
    "import fusion_functions"
   ]
  },
  {
   "cell_type": "code",
   "execution_count": 3,
   "id": "34a7cb35-e4ac-4432-a8dc-37a50f2d4126",
   "metadata": {},
   "outputs": [
    {
     "name": "stdout",
     "output_type": "stream",
     "text": [
      "A:/leo_imagej/fiji-win64/fiji-win64/Fiji.app/ImageJ-win64.exe --ij2 --headless --console --run ./testmacro.ijm \"param='leo', param2='rules'\n"
     ]
    },
    {
     "data": {
      "text/plain": [
       "CompletedProcess(args='A:/leo_imagej/fiji-win64/fiji-win64/Fiji.app/ImageJ-win64.exe --ij2 --headless --console --run ./testmacro.ijm \"param=\\'leo\\', param2=\\'rules\\'', returncode=0)"
      ]
     },
     "execution_count": 3,
     "metadata": {},
     "output_type": "execute_result"
    }
   ],
   "source": [
    "image_exe = \"A:/leo_imagej/fiji-win64/fiji-win64/Fiji.app/ImageJ-win64.exe\"\n",
    "cmd = f\"{image_exe} --ij2 --headless --console --run ./testmacro.ijm \\\"param='leo', param2='rules'\"\n",
    "cmd2 = f\"{image_exe} --ij2 --headless --console --run ./testmacro.ijm [param='leo', param2='rules']\"\n",
    "\n",
    "cmd3 = f\"{image_exe} --ij2 --headless --console --run ./testmacro2.ijm\"\n",
    "\n",
    "print(cmd)\n",
    "# subprocess.run(\"dir\", cwd=\"G:/Data/dOPM_leo/dOPM_reslicing\", shell=True)\n",
    "# subprocess.run(cmd, cwd=\"G:/Data/dOPM_leo/dOPM_reslicing\")\n",
    "subprocess.run(cmd, cwd=\"C:/Users/CRICKOPMuser/Documents/Leo/code/dOPM_reslicing\")"
   ]
  },
  {
   "cell_type": "code",
   "execution_count": 1,
   "id": "abdcfc28-9425-44df-9e97-7a2c3f4e2920",
   "metadata": {},
   "outputs": [
    {
     "ename": "NameError",
     "evalue": "name 'fusion_functions' is not defined",
     "output_type": "error",
     "traceback": [
      "\u001b[1;31m---------------------------------------------------------------------------\u001b[0m",
      "\u001b[1;31mNameError\u001b[0m                                 Traceback (most recent call last)",
      "Cell \u001b[1;32mIn[1], line 5\u001b[0m\n\u001b[0;32m      2\u001b[0m out_dir \u001b[38;5;241m=\u001b[39m \u001b[38;5;124m\"\u001b[39m\u001b[38;5;124mA:/leo/micromanager/bone_marrow_2nd/aml/data/deskewed_20250122-222922/pos_p0001/macro_test\u001b[39m\u001b[38;5;124m\"\u001b[39m\n\u001b[0;32m      3\u001b[0m image_dir \u001b[38;5;241m=\u001b[39m \u001b[38;5;124m\"\u001b[39m\u001b[38;5;124mA:/leo_imagej/fiji-win64/fiji-win64/Fiji.app/\u001b[39m\u001b[38;5;124m\"\u001b[39m\n\u001b[1;32m----> 5\u001b[0m \u001b[43mfusion_functions\u001b[49m\u001b[38;5;241m.\u001b[39mrun_image_fusion_macro(in_dir, out_dir, image_dir)\n",
      "\u001b[1;31mNameError\u001b[0m: name 'fusion_functions' is not defined"
     ]
    }
   ],
   "source": [
    "in_dir = \"A:/leo/micromanager/bone_marrow_2nd/aml/data/deskewed_20250122-222922/pos_p0001\"\n",
    "out_dir = \"A:/leo/micromanager/bone_marrow_2nd/aml/data/deskewed_20250122-222922/pos_p0001/macro_test\"\n",
    "image_dir = \"A:/leo_imagej/fiji-win64/fiji-win64/Fiji.app/\"\n",
    "\n",
    "fusion_functions.run_image_fusion_macro(in_dir, out_dir, image_dir)"
   ]
  },
  {
   "cell_type": "code",
   "execution_count": null,
   "id": "bc697438-bdc8-4117-bd74-71b43a9b04d4",
   "metadata": {},
   "outputs": [],
   "source": []
  }
 ],
 "metadata": {
  "kernelspec": {
   "display_name": "Python 3 (ipykernel)",
   "language": "python",
   "name": "python3"
  },
  "language_info": {
   "codemirror_mode": {
    "name": "ipython",
    "version": 3
   },
   "file_extension": ".py",
   "mimetype": "text/x-python",
   "name": "python",
   "nbconvert_exporter": "python",
   "pygments_lexer": "ipython3",
   "version": "3.12.8"
  }
 },
 "nbformat": 4,
 "nbformat_minor": 5
}
