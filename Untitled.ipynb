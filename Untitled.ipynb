{
 "cells": [
  {
   "cell_type": "markdown",
   "id": "65edfe3c-176c-416c-a70d-01db1a90c243",
   "metadata": {},
   "source": [
    "### Scripts to process the BDV datasets and save as deskewed tiffs (downsampled)"
   ]
  },
  {
   "cell_type": "code",
   "execution_count": null,
   "id": "64020f69-20cd-4539-8485-450b73611058",
   "metadata": {},
   "outputs": [],
   "source": [
    "# import imagej, scyjava\n",
    "from tifffile import imwrite, imread, tiffcomment, TiffFile\n",
    "import os\n",
    "import re\n",
    "import fractions\n"
   ]
  },
  {
   "cell_type": "code",
   "execution_count": 54,
   "id": "77cc0b15-19eb-47e2-b25c-d015cf1566bf",
   "metadata": {},
   "outputs": [
    {
     "name": "stdout",
     "output_type": "stream",
     "text": [
      "X px size: 0.863268611207989, Y px size: 0.863268611207989, Z spacing: 0.863268213601421\n",
      "Object space px size according to BDV 0.21581715280199726\n",
      "Width: 577 px, Height: 2243 px\n",
      "x res fraction 125/104\n",
      "y res fraction 125/104\n",
      "TiffTag 282 XResolution @142 RATIONAL @364 = (1158388, 1000000)\n"
     ]
    }
   ],
   "source": [
    "loaddir = \"E:/dopm_reslicing/y_stage_scan_20241216-171205_c0p0/deskewed_20250124-171304/pos_p0000\"\n",
    "\n",
    "tiffcomment(os.path.join(loaddir, \"test.tif\"))\n",
    "\n",
    "downscaling = 4\n",
    "px_size_obj = 0.208\n",
    "regexp = r\"spacing=(\\d+\\.\\d+)\"  # regular expression: \\d+ means one or more digits, \\. means a dot\n",
    "\n",
    "z = 0.\n",
    "\n",
    "with TiffFile(os.path.join(loaddir, \"test.tif\"), mode='r+b') as tif:\n",
    "    # resolution is px per unit (um)\n",
    "    x_resolution = tif.pages[0].tags['XResolution'].value\n",
    "    y_resolution = tif.pages[0].tags['YResolution'].value\n",
    "\n",
    "    # x and y resolutions are returned as tuple fraction, get px size with reciprocal \n",
    "    bdv_x_px_size = float(x_resolution[1]) / float(x_resolution[0])\n",
    "    bdv_y_px_size = float(y_resolution[1]) / float(y_resolution[0])\n",
    "\n",
    "    # get z spacing (um) from ImageDescription tag\n",
    "    desc = tif.pages[0].tags['ImageDescription'].value\n",
    "    z_spacing = float(re.search(regexp,desc).group(1))\n",
    "\n",
    "    # get position of regexp match in string to construct new ImageDescription\n",
    "    span_loc = re.search(regexp,desc).span()\n",
    "\n",
    "    print(f\"X px size: {bdv_x_px_size}, Y px size: {bdv_y_px_size}, Z spacing: {z_spacing}\")\n",
    "\n",
    "    # using known downscaling, calculate object space px size according to the \n",
    "    # BDV-processed image, (is wrong by a few %), but should be close to px_size_obj\n",
    "\n",
    "    bdv_px_size_obj = bdv_x_px_size/downscaling\n",
    "\n",
    "    print(\"Object space px size according to BDV\", bdv_px_size_obj)\n",
    "    print(\"Actual object space px size\", px_size_obj)\n",
    "\n",
    "    width = tif.pages[0].imagewidth\n",
    "    height = tif.pages[0].imagelength\n",
    "    print(f\"Width: {width} px, Height: {height} px\")\n",
    "\n",
    "    # expected_framesize_x_um = width * px_size_obj * downscaling\n",
    "    # actual_framesize_x_um = width * x_px_size\n",
    "\n",
    "    correction_factor = px_size_obj/bdv_px_size_obj # expected_framesize_x_um / actual_framesize_x_um\n",
    "    \n",
    "    x_px_size_new = bdv_x_px_size * correction_factor\n",
    "    y_px_size_new = bdv_y_px_size * correction_factor\n",
    "    spacing_new = z_spacing * correction_factor\n",
    "\n",
    "    print(\"New x px size\", x_px_size_new, \"new y px size\", y_px_size_new, \"new z spacing\", spacing_new)\n",
    "\n",
    "    # convert floats to integer numerator-denominator tuples\n",
    "    x_resolution_frac = fractions.Fraction(1/x_px_size_new).limit_denominator(max_denominator=4294967295)\n",
    "    y_resolution_frac = fractions.Fraction(1/y_px_size_new).limit_denominator(max_denominator=4294967295)\n",
    "\n",
    "    \n",
    "    print(\"x res fraction\", x_resolution_frac)\n",
    "    print(\"y res fraction\", y_resolution_frac)\n",
    "\n",
    "    x_resolution_new = (x_resolution_frac.numerator, x_resolution_frac.denominator)\n",
    "    y_resolution_new = (y_resolution_frac.numerator, y_resolution_frac.denominator)\n",
    "\n",
    "    \n",
    "    new_desc = desc[:span_loc[0]] + f\"spacing={spacing_new}\" + desc[span_loc[1]:]\n",
    "\n",
    "\n",
    "    # tif.pages[0].tags['XResolution'].overwrite(x_resolution_new)  #\n",
    "    # tif.pages[0].tags['YResolution'].overwrite(y_resolution_new)\n",
    "    # tif.pages[0].tags['ResolutionUnit'].overwrite(3)  # 3 corresponds to 'Micron'\n",
    "    # tif.pages[0].tags['ImageDescription'].overwrite(new_desc)\n",
    "\n",
    "    print(tif.pages[0].tags['XResolution'])"
   ]
  },
  {
   "cell_type": "code",
   "execution_count": 39,
   "id": "d41de60a",
   "metadata": {},
   "outputs": [
    {
     "name": "stdout",
     "output_type": "stream",
     "text": [
      "1\n",
      "False\n",
      "['ImageJ=1.54g', 'images=1223', 'slices=1223', 'unit=micron', 'spacing=0.863268213601421', 'loop=false', 'min=0.0', 'max=255.0', 'yorigin=103.7000941588707', 'zorigin=21.959385183486148']\n",
      "4\n",
      "0.863268213601421\n"
     ]
    }
   ],
   "source": [
    "desc = tif.pages[0].tags['ImageDescription'].value\n",
    "dir(tif.pages[0])\n",
    "print(tif.pages[0].imagedepth)\n",
    "#tif.pages[0].get_resolution()\n",
    "descs = desc.split(\"\\n\")\n",
    "print(\"spacing\" in descs[:])\n",
    "arr=[\"spacing\" in line for line in descs]\n",
    "print(descs)\n",
    "# using logical list to get index of line with spacing\n",
    "print(arr.index(True))\n",
    "descs[arr.index(True)]\n",
    "regexp = r\"spacing=(\\d+\\.\\d+)\"  # regular expression: \\d+ means one or more digits, \\. means a dot\n",
    "match = re.search(regexp,desc)\n",
    "print(match.group(1))"
   ]
  },
  {
   "cell_type": "code",
   "execution_count": null,
   "id": "c28c1690",
   "metadata": {},
   "outputs": [],
   "source": []
  }
 ],
 "metadata": {
  "kernelspec": {
   "display_name": "dopm_bdv",
   "language": "python",
   "name": "python3"
  },
  "language_info": {
   "codemirror_mode": {
    "name": "ipython",
    "version": 3
   },
   "file_extension": ".py",
   "mimetype": "text/x-python",
   "name": "python",
   "nbconvert_exporter": "python",
   "pygments_lexer": "ipython3",
   "version": "3.12.8"
  }
 },
 "nbformat": 4,
 "nbformat_minor": 5
}
