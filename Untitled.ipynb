{
 "cells": [
  {
   "cell_type": "markdown",
   "id": "65edfe3c-176c-416c-a70d-01db1a90c243",
   "metadata": {},
   "source": [
    "### Scripts to process the BDV datasets and save as deskewed tiffs (downsampled)"
   ]
  },
  {
   "cell_type": "code",
   "execution_count": null,
   "id": "64020f69-20cd-4539-8485-450b73611058",
   "metadata": {},
   "outputs": [],
   "source": [
    "import imagej, scyjava"
   ]
  },
  {
   "cell_type": "code",
   "execution_count": null,
   "id": "77cc0b15-19eb-47e2-b25c-d015cf1566bf",
   "metadata": {},
   "outputs": [],
   "source": []
  }
 ],
 "metadata": {
  "kernelspec": {
   "display_name": "Python 3 (ipykernel)",
   "language": "python",
   "name": "python3"
  },
  "language_info": {
   "codemirror_mode": {
    "name": "ipython",
    "version": 3
   },
   "file_extension": ".py",
   "mimetype": "text/x-python",
   "name": "python",
   "nbconvert_exporter": "python",
   "pygments_lexer": "ipython3",
   "version": "3.13.1"
  }
 },
 "nbformat": 4,
 "nbformat_minor": 5
}
