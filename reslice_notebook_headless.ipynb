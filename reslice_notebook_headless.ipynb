{
 "cells": [
  {
   "cell_type": "code",
   "execution_count": 1,
   "metadata": {},
   "outputs": [],
   "source": [
    "import h5py\n",
    "import numpy as np\n",
    "# import matplotlib.pyplot as plt\n",
    "from tifffile import imwrite, imread, tiffcomment, TiffFile\n",
    "from ome_types import from_tiff\n",
    "from glob import glob\n",
    "import os\n",
    "import affine_matrices as affine\n",
    "from scipy.ndimage import affine_transform\n",
    "from timeit import default_timer as timer\n",
    "from npy2bdv import BdvWriter\n",
    "from napari import Viewer\n",
    "import lxml\n",
    "from datetime import datetime\n",
    "import bdv_functions, fusion_functions\n"
   ]
  },
  {
   "cell_type": "code",
   "execution_count": 2,
   "metadata": {},
   "outputs": [],
   "source": [
    "#tiff_data_dir = \"A:/leo/micromanager/bone_marrow_2nd/aml/data/y_stage_scan_20250117-181620\"\n",
    "#out_dir = \"A:/leo/micromanager/bone_marrow_2nd/aml/data/\"\n",
    "\n",
    "# tiff_data_dir = \"G:/Data/dOPM_leo/dopm_data/dan_old/D_and_E_from_d4/data/y_stage_scan_20250116-174521/\"\n",
    "# out_dir = \"G:/Data/dOPM_leo/dopm_data/dan_old/D_and_E_from_d4/\"\n",
    "\n",
    "tiff_data_dir = \"A:/leo/micromanager/dan/D_and_E_from_d4/data/y_stage_scan_20250116-174521/\"\n",
    "out_dir = \"A:/leo/micromanager/dan/D_and_E_from_d4/\"\n",
    "\n",
    "tiff_data_dir = \"A:/leo/micromanager/bone_marrow_2nd/aml/data/y_stage_scan_20250117-181620/\"\n",
    "out_dir = \"A:/leo/micromanager/bone_marrow_2nd/aml/\"\n",
    "\n",
    "tiff_data_dir = \"A:/leo/micromanager/bone_marrow/control/data/y_stage_scan_20241216-171205/\"\n",
    "out_dir = \"A:/leo/micromanager/bone_marrow/control/\"\n",
    "\n",
    "tiff_data_dir = \"A:/leo/micromanager/dan_2/row_b_and_d/data/y_stage_scan_20250123-182753_combined\"\n",
    "out_dir = \"A:/leo/micromanager/dan/D_and_E_from_d4/\"\n",
    "\n",
    "tiff_data_dir = \"A:/leo/micromanager/dan_2/row_b_and_d_fromb3_pos2/data/y_stage_scan_20250123-182753_combined/\"\n",
    "out_dir = \"A:/leo/micromanager/dan_2/row_b_and_d_fromb3_pos2/\"\n",
    "\n",
    "tiff_data_dir = \"A:/leo/micromanager/dan_2/row_b_and_d/data/y_stage_scan_20250123-173657/\"\n",
    "out_dir = \"A:/leo/micromanager/dan_2/row_b2_b3pos2\""
   ]
  },
  {
   "cell_type": "code",
   "execution_count": 3,
   "metadata": {},
   "outputs": [
    {
     "name": "stdout",
     "output_type": "stream",
     "text": [
      "List of dirs:\n",
      " ['A:/leo/micromanager/dan_2/row_b_and_d/data/y_stage_scan_20250123-173657\\\\dOPM_t0000_p0000_z0000_c0000_view1', 'A:/leo/micromanager/dan_2/row_b_and_d/data/y_stage_scan_20250123-173657\\\\dOPM_t0000_p0000_z0000_c0001_view1', 'A:/leo/micromanager/dan_2/row_b_and_d/data/y_stage_scan_20250123-173657\\\\dOPM_t0000_p0001_z0000_c0000_view1', 'A:/leo/micromanager/dan_2/row_b_and_d/data/y_stage_scan_20250123-173657\\\\dOPM_t0000_p0001_z0000_c0001_view1', 'A:/leo/micromanager/dan_2/row_b_and_d/data/y_stage_scan_20250123-173657\\\\dOPM_t0000_p0002_z0000_c0000_view1', 'A:/leo/micromanager/dan_2/row_b_and_d/data/y_stage_scan_20250123-173657\\\\dOPM_t0000_p0002_z0000_c0001_view1', 'A:/leo/micromanager/dan_2/row_b_and_d/data/y_stage_scan_20250123-173657\\\\dOPM_t0000_p0003_z0000_c0000_view1', 'A:/leo/micromanager/dan_2/row_b_and_d/data/y_stage_scan_20250123-173657\\\\dOPM_t0000_p0003_z0000_c0001_view1', 'A:/leo/micromanager/dan_2/row_b_and_d/data/y_stage_scan_20250123-173657\\\\dOPM_t0000_p0004_z0000_c0000_view1', 'A:/leo/micromanager/dan_2/row_b_and_d/data/y_stage_scan_20250123-173657\\\\dOPM_t0000_p0004_z0000_c0001_view1', 'A:/leo/micromanager/dan_2/row_b_and_d/data/y_stage_scan_20250123-173657\\\\dOPM_t0000_p0005_z0000_c0000_view1', 'A:/leo/micromanager/dan_2/row_b_and_d/data/y_stage_scan_20250123-173657\\\\dOPM_t0000_p0005_z0000_c0001_view1', 'A:/leo/micromanager/dan_2/row_b_and_d/data/y_stage_scan_20250123-173657\\\\dOPM_t0000_p0006_z0000_c0000_view1', 'A:/leo/micromanager/dan_2/row_b_and_d/data/y_stage_scan_20250123-173657\\\\dOPM_t0000_p0006_z0000_c0001_view1', 'A:/leo/micromanager/dan_2/row_b_and_d/data/y_stage_scan_20250123-173657\\\\dOPM_t0000_p0007_z0000_c0000_view1', 'A:/leo/micromanager/dan_2/row_b_and_d/data/y_stage_scan_20250123-173657\\\\dOPM_t0000_p0007_z0000_c0001_view1', 'A:/leo/micromanager/dan_2/row_b_and_d/data/y_stage_scan_20250123-173657\\\\dOPM_t0000_p0008_z0000_c0000_view1', 'A:/leo/micromanager/dan_2/row_b_and_d/data/y_stage_scan_20250123-173657\\\\dOPM_t0000_p0008_z0000_c0001_view1', 'A:/leo/micromanager/dan_2/row_b_and_d/data/y_stage_scan_20250123-173657\\\\dOPM_t0000_p0009_z0000_c0000_view1']\n",
      "A:/leo/micromanager/dan_2/row_b_and_d/data/y_stage_scan_20250123-173657\\dOPM_t0000_p0000_z0000_c0000_view1\n",
      "A:/leo/micromanager/dan_2/row_b_and_d/data/y_stage_scan_20250123-173657\\dOPM_t0000_p0000_z0000_c0001_view1\n",
      "A:/leo/micromanager/dan_2/row_b_and_d/data/y_stage_scan_20250123-173657\\dOPM_t0000_p0001_z0000_c0000_view1\n",
      "A:/leo/micromanager/dan_2/row_b_and_d/data/y_stage_scan_20250123-173657\\dOPM_t0000_p0001_z0000_c0001_view1\n",
      "A:/leo/micromanager/dan_2/row_b_and_d/data/y_stage_scan_20250123-173657\\dOPM_t0000_p0002_z0000_c0000_view1\n",
      "A:/leo/micromanager/dan_2/row_b_and_d/data/y_stage_scan_20250123-173657\\dOPM_t0000_p0002_z0000_c0001_view1\n",
      "A:/leo/micromanager/dan_2/row_b_and_d/data/y_stage_scan_20250123-173657\\dOPM_t0000_p0003_z0000_c0000_view1\n",
      "A:/leo/micromanager/dan_2/row_b_and_d/data/y_stage_scan_20250123-173657\\dOPM_t0000_p0003_z0000_c0001_view1\n",
      "A:/leo/micromanager/dan_2/row_b_and_d/data/y_stage_scan_20250123-173657\\dOPM_t0000_p0004_z0000_c0000_view1\n",
      "A:/leo/micromanager/dan_2/row_b_and_d/data/y_stage_scan_20250123-173657\\dOPM_t0000_p0004_z0000_c0001_view1\n",
      "A:/leo/micromanager/dan_2/row_b_and_d/data/y_stage_scan_20250123-173657\\dOPM_t0000_p0005_z0000_c0000_view1\n",
      "A:/leo/micromanager/dan_2/row_b_and_d/data/y_stage_scan_20250123-173657\\dOPM_t0000_p0005_z0000_c0001_view1\n",
      "A:/leo/micromanager/dan_2/row_b_and_d/data/y_stage_scan_20250123-173657\\dOPM_t0000_p0006_z0000_c0000_view1\n",
      "A:/leo/micromanager/dan_2/row_b_and_d/data/y_stage_scan_20250123-173657\\dOPM_t0000_p0006_z0000_c0001_view1\n",
      "A:/leo/micromanager/dan_2/row_b_and_d/data/y_stage_scan_20250123-173657\\dOPM_t0000_p0007_z0000_c0000_view1\n",
      "A:/leo/micromanager/dan_2/row_b_and_d/data/y_stage_scan_20250123-173657\\dOPM_t0000_p0007_z0000_c0001_view1\n",
      "A:/leo/micromanager/dan_2/row_b_and_d/data/y_stage_scan_20250123-173657\\dOPM_t0000_p0008_z0000_c0000_view1\n",
      "A:/leo/micromanager/dan_2/row_b_and_d/data/y_stage_scan_20250123-173657\\dOPM_t0000_p0008_z0000_c0001_view1\n",
      "A:/leo/micromanager/dan_2/row_b_and_d/data/y_stage_scan_20250123-173657\\dOPM_t0000_p0009_z0000_c0000_view1\n",
      "20250205-004259\n",
      "dict_items([('p0000', [{'time': '0000', 'z': '0000', 'channel': '0000', 'dir': 'A:/leo/micromanager/dan_2/row_b_and_d/data/y_stage_scan_20250123-173657\\\\dOPM_t0000_p0000_z0000_c0000_view1', 'angle': -45}, {'time': '0000', 'z': '0000', 'channel': '0001', 'dir': 'A:/leo/micromanager/dan_2/row_b_and_d/data/y_stage_scan_20250123-173657\\\\dOPM_t0000_p0000_z0000_c0001_view1', 'angle': -45}]), ('p0001', [{'time': '0000', 'z': '0000', 'channel': '0000', 'dir': 'A:/leo/micromanager/dan_2/row_b_and_d/data/y_stage_scan_20250123-173657\\\\dOPM_t0000_p0001_z0000_c0000_view1', 'angle': -45}, {'time': '0000', 'z': '0000', 'channel': '0001', 'dir': 'A:/leo/micromanager/dan_2/row_b_and_d/data/y_stage_scan_20250123-173657\\\\dOPM_t0000_p0001_z0000_c0001_view1', 'angle': -45}]), ('p0002', [{'time': '0000', 'z': '0000', 'channel': '0000', 'dir': 'A:/leo/micromanager/dan_2/row_b_and_d/data/y_stage_scan_20250123-173657\\\\dOPM_t0000_p0002_z0000_c0000_view1', 'angle': -45}, {'time': '0000', 'z': '0000', 'channel': '0001', 'dir': 'A:/leo/micromanager/dan_2/row_b_and_d/data/y_stage_scan_20250123-173657\\\\dOPM_t0000_p0002_z0000_c0001_view1', 'angle': -45}]), ('p0003', [{'time': '0000', 'z': '0000', 'channel': '0000', 'dir': 'A:/leo/micromanager/dan_2/row_b_and_d/data/y_stage_scan_20250123-173657\\\\dOPM_t0000_p0003_z0000_c0000_view1', 'angle': -45}, {'time': '0000', 'z': '0000', 'channel': '0001', 'dir': 'A:/leo/micromanager/dan_2/row_b_and_d/data/y_stage_scan_20250123-173657\\\\dOPM_t0000_p0003_z0000_c0001_view1', 'angle': -45}]), ('p0004', [{'time': '0000', 'z': '0000', 'channel': '0000', 'dir': 'A:/leo/micromanager/dan_2/row_b_and_d/data/y_stage_scan_20250123-173657\\\\dOPM_t0000_p0004_z0000_c0000_view1', 'angle': -45}, {'time': '0000', 'z': '0000', 'channel': '0001', 'dir': 'A:/leo/micromanager/dan_2/row_b_and_d/data/y_stage_scan_20250123-173657\\\\dOPM_t0000_p0004_z0000_c0001_view1', 'angle': -45}]), ('p0005', [{'time': '0000', 'z': '0000', 'channel': '0000', 'dir': 'A:/leo/micromanager/dan_2/row_b_and_d/data/y_stage_scan_20250123-173657\\\\dOPM_t0000_p0005_z0000_c0000_view1', 'angle': -45}, {'time': '0000', 'z': '0000', 'channel': '0001', 'dir': 'A:/leo/micromanager/dan_2/row_b_and_d/data/y_stage_scan_20250123-173657\\\\dOPM_t0000_p0005_z0000_c0001_view1', 'angle': -45}]), ('p0006', [{'time': '0000', 'z': '0000', 'channel': '0000', 'dir': 'A:/leo/micromanager/dan_2/row_b_and_d/data/y_stage_scan_20250123-173657\\\\dOPM_t0000_p0006_z0000_c0000_view1', 'angle': -45}, {'time': '0000', 'z': '0000', 'channel': '0001', 'dir': 'A:/leo/micromanager/dan_2/row_b_and_d/data/y_stage_scan_20250123-173657\\\\dOPM_t0000_p0006_z0000_c0001_view1', 'angle': -45}]), ('p0007', [{'time': '0000', 'z': '0000', 'channel': '0000', 'dir': 'A:/leo/micromanager/dan_2/row_b_and_d/data/y_stage_scan_20250123-173657\\\\dOPM_t0000_p0007_z0000_c0000_view1', 'angle': -45}, {'time': '0000', 'z': '0000', 'channel': '0001', 'dir': 'A:/leo/micromanager/dan_2/row_b_and_d/data/y_stage_scan_20250123-173657\\\\dOPM_t0000_p0007_z0000_c0001_view1', 'angle': -45}]), ('p0008', [{'time': '0000', 'z': '0000', 'channel': '0000', 'dir': 'A:/leo/micromanager/dan_2/row_b_and_d/data/y_stage_scan_20250123-173657\\\\dOPM_t0000_p0008_z0000_c0000_view1', 'angle': -45}, {'time': '0000', 'z': '0000', 'channel': '0001', 'dir': 'A:/leo/micromanager/dan_2/row_b_and_d/data/y_stage_scan_20250123-173657\\\\dOPM_t0000_p0008_z0000_c0001_view1', 'angle': -45}]), ('p0009', [{'time': '0000', 'z': '0000', 'channel': '0000', 'dir': 'A:/leo/micromanager/dan_2/row_b_and_d/data/y_stage_scan_20250123-173657\\\\dOPM_t0000_p0009_z0000_c0000_view1', 'angle': -45}])])\n",
      "channels ['0000', '0001'] time ['0000', '0000'] z ['0000', '0000'] angle [0, 0]\n",
      "A:/leo/micromanager/dan_2/row_b_and_d/data/y_stage_scan_20250123-173657\\dOPM_t0000_p0000_z0000_c0000_view1\n",
      "angle -45\n",
      "position p0000\n",
      "time 0000\n",
      "z 0000\n",
      "channel 0000\n",
      "A:/leo/micromanager/dan_2/row_b_and_d/data/y_stage_scan_20250123-173657\\dOPM_t0000_p0000_z0000_c0000_view1\\HamamatsuHam_DCAM-dopm/*.tif\n",
      "size_x 2304\n",
      "size_zp 2304\n",
      "size_scan 2300\n",
      "loading A:/leo/micromanager/dan_2/row_b_and_d/data/y_stage_scan_20250123-173657\\dOPM_t0000_p0000_z0000_c0000_view1\\HamamatsuHam_DCAM-dopm\\HamamatsuHam_DCAM-dopm_MMStack.ome.tif\n"
     ]
    },
    {
     "ename": "KeyboardInterrupt",
     "evalue": "",
     "output_type": "error",
     "traceback": [
      "\u001b[1;31m---------------------------------------------------------------------------\u001b[0m",
      "\u001b[1;31mKeyboardInterrupt\u001b[0m                         Traceback (most recent call last)",
      "Cell \u001b[1;32mIn[3], line 1\u001b[0m\n\u001b[1;32m----> 1\u001b[0m bdv_dir \u001b[38;5;241m=\u001b[39m \u001b[43mbdv_functions\u001b[49m\u001b[38;5;241;43m.\u001b[39;49m\u001b[43mcreate_bdv_datasets\u001b[49m\u001b[43m(\u001b[49m\u001b[43mtiff_data_dir\u001b[49m\u001b[43m,\u001b[49m\u001b[43m \u001b[49m\u001b[43mout_dir\u001b[49m\u001b[43m,\u001b[49m\u001b[43m \u001b[49m\u001b[43mopm_angle\u001b[49m\u001b[38;5;241;43m=\u001b[39;49m\u001b[38;5;241;43m45\u001b[39;49m\u001b[43m,\u001b[49m\u001b[43m \u001b[49m\u001b[43mmax_slices_per_tile\u001b[49m\u001b[38;5;241;43m=\u001b[39;49m\u001b[38;5;241;43m3000\u001b[39;49m\u001b[43m)\u001b[49m\n",
      "File \u001b[1;32m~\\Documents\\Leo\\code\\dOPM_reslicing\\bdv_functions.py:187\u001b[0m, in \u001b[0;36mcreate_bdv_datasets\u001b[1;34m(tiff_data_dir, out_dir, opm_angle, stop_at_position, max_slices_per_tile, registration_matrix)\u001b[0m\n\u001b[0;32m    184\u001b[0m         mm_metadata \u001b[38;5;241m=\u001b[39m tif\u001b[38;5;241m.\u001b[39mmicromanager_metadata\n\u001b[0;32m    185\u001b[0m         \u001b[38;5;28;01mfor\u001b[39;00m n, page \u001b[38;5;129;01min\u001b[39;00m \u001b[38;5;28menumerate\u001b[39m(tif\u001b[38;5;241m.\u001b[39mpages):\n\u001b[0;32m    186\u001b[0m             \u001b[38;5;66;03m# print(\"page\", n)\u001b[39;00m\n\u001b[1;32m--> 187\u001b[0m             imstack[n\u001b[38;5;241m+\u001b[39moffset,:,:] \u001b[38;5;241m=\u001b[39m page\u001b[38;5;241m.\u001b[39masarray() \u001b[38;5;66;03m# expects zyx\u001b[39;00m\n\u001b[0;32m    188\u001b[0m     offset \u001b[38;5;241m+\u001b[39m\u001b[38;5;241m=\u001b[39m n\u001b[38;5;241m+\u001b[39m\u001b[38;5;241m1\u001b[39m\n\u001b[0;32m    190\u001b[0m end_time \u001b[38;5;241m=\u001b[39m timer()\n",
      "\u001b[1;31mKeyboardInterrupt\u001b[0m: "
     ]
    }
   ],
   "source": [
    "bdv_dir = bdv_functions.create_bdv_datasets(tiff_data_dir, out_dir, opm_angle=45, max_slices_per_tile=3000)"
   ]
  },
  {
   "cell_type": "code",
   "execution_count": 2,
   "metadata": {},
   "outputs": [
    {
     "name": "stdout",
     "output_type": "stream",
     "text": [
      "A:/leo/micromanager/dan_2/d3\\fused_tiffs\n",
      "A:/leo/micromanager/dan_2/d3\n"
     ]
    }
   ],
   "source": [
    "# tiff_out_dir = 'G:/Data/dOPM_leo/dopm_data/dan_old/D_and_E_from_d4/fused_tiffs'\n",
    "# tiff_out_dir = 'A:/leo/micromanager/bone_marrow_2nd/aml/data/deskewed_20250122-222922/fused_tiffs'\n",
    "# bdv_dir = 'G:/Data/dOPM_leo/dopm_data/dan_old/D_and_E_from_d4/deskewed_20250127-005527'\n",
    "# bdv_dir = 'A:/leo/micromanager/bone_marrow_2nd/aml/data/deskewed_20250122-222922/'\n",
    "# imagej_dir = \"C:/Users/lnr19/OneDrive - Imperial College London/postdoc_2024/fiji-win64/Fiji.app/\"\n",
    "# bdv_dir = \"A:/leo/micromanager/bone_marrow_2nd/aml/deskewed_20250131-154023/\"\n",
    "# bdv_dir = \"A:/leo/micromanager/bone_marrow/control/data/deskewed_20250114-175323\"\n",
    "bdv_dir = \"A:/leo/micromanager/dan_2/row_b_and_d/row_b2_b3pos2/deskewed_20250204-105116\"\n",
    "bdv_dir = \"A:/leo/micromanager/dan_2/row_b_and_d_fromb3_pos2/deskewed_20250203-150527\"\n",
    "bdv_dir = \"A:/leo/micromanager/dan_2/d3\"\n",
    "\n",
    "tiff_out_dir = os.path.join(bdv_dir, \"fused_tiffs\")\n",
    "imagej_dir = \"A:/leo_imagej/fiji-win64/fiji-win64/Fiji.app/\"\n",
    "print(tiff_out_dir)\n",
    "print(bdv_dir)"
   ]
  },
  {
   "cell_type": "code",
   "execution_count": null,
   "metadata": {
    "scrolled": true
   },
   "outputs": [
    {
     "name": "stdout",
     "output_type": "stream",
     "text": [
      "found BDV dataset folders: \n",
      " ['A:/leo/micromanager/dan_2/d3\\\\pos_p0005', 'A:/leo/micromanager/dan_2/d3\\\\pos_p0006', 'A:/leo/micromanager/dan_2/d3\\\\pos_p0007', 'A:/leo/micromanager/dan_2/d3\\\\pos_p0008', 'A:/leo/micromanager/dan_2/d3\\\\pos_p0008_fused_tp_0_ch_0.tif', 'A:/leo/micromanager/dan_2/d3\\\\pos_p0008_fused_tp_0_ch_1.tif', 'A:/leo/micromanager/dan_2/d3\\\\pos_p0009', 'A:/leo/micromanager/dan_2/d3\\\\pos_p0010', 'A:/leo/micromanager/dan_2/d3\\\\pos_p0011']\n",
      "reslicing data in A:/leo/micromanager/dan_2/d3\\pos_p0005\\dataset.xml\n",
      "pos_p0005\n",
      "Running command: A:/leo_imagej/fiji-win64/fiji-win64/Fiji.app/ImageJ-win64.exe --ij2  --run C:\\Users\\CRICKOPMuser\\Documents\\Leo\\code\\dOPM_reslicing\\imagej_macros/image_fusion.ijm \"xml_path='A:/leo/micromanager/dan_2/d3\\pos_p0005\\dataset.xml', out_dir='A:/leo/micromanager/dan_2/d3\\fused_tiffs', downscale=4,fusion_method='[Avg, Blending]', view='both',filename_addition='pos_p0005', save_method='[Save as (compressed) TIFF stacks]',opm_angle=45, save_fused=true\"\n"
     ]
    }
   ],
   "source": [
    "#tiff_out_dir = os.path.join(out_dir, \"fused_tiffs\")\n",
    "fusion_functions.deskew_bdv_and_save_tiffs(bdv_dir, tiff_out_dir, imagej_dir=imagej_dir, legacy=False)#,stop_at_index=5)"
   ]
  },
  {
   "cell_type": "code",
   "execution_count": 5,
   "metadata": {},
   "outputs": [
    {
     "data": {
      "text/plain": [
       "['A:/leo/micromanager/bone_marrow_2nd/aml/data/deskewed_20250122-222922\\\\pos_p0000',\n",
       " 'A:/leo/micromanager/bone_marrow_2nd/aml/data/deskewed_20250122-222922\\\\pos_p0001']"
      ]
     },
     "execution_count": 5,
     "metadata": {},
     "output_type": "execute_result"
    }
   ],
   "source": [
    "import glob\n",
    "\n",
    "glob.glob(\"A:/leo/micromanager/bone_marrow_2nd/aml/data/deskewed_20250122-222922/pos*\")"
   ]
  },
  {
   "cell_type": "code",
   "execution_count": null,
   "metadata": {},
   "outputs": [],
   "source": []
  },
  {
   "cell_type": "code",
   "execution_count": null,
   "metadata": {},
   "outputs": [],
   "source": []
  }
 ],
 "metadata": {
  "kernelspec": {
   "display_name": "Python 3 (ipykernel)",
   "language": "python",
   "name": "python3"
  },
  "language_info": {
   "codemirror_mode": {
    "name": "ipython",
    "version": 3
   },
   "file_extension": ".py",
   "mimetype": "text/x-python",
   "name": "python",
   "nbconvert_exporter": "python",
   "pygments_lexer": "ipython3",
   "version": "3.12.8"
  }
 },
 "nbformat": 4,
 "nbformat_minor": 4
}
