{
 "cells": [
  {
   "cell_type": "code",
   "execution_count": 7,
   "metadata": {},
   "outputs": [],
   "source": [
    "import h5py\n",
    "import numpy as np\n",
    "# import matplotlib.pyplot as plt\n",
    "from tifffile import imwrite, imread, tiffcomment, TiffFile\n",
    "from ome_types import from_tiff\n",
    "from glob import glob\n",
    "import os\n",
    "import affine as affine\n",
    "from scipy.ndimage import affine_transform\n",
    "from timeit import default_timer as timer\n",
    "from npy2bdv import BdvWriter\n",
    "from napari import Viewer"
   ]
  },
  {
   "cell_type": "code",
   "execution_count": 2,
   "metadata": {},
   "outputs": [],
   "source": [
    "## define affine matrices for deskewing\n",
    "\n",
    "def deskew(opm_angle, size_x, size_z):\n",
    "    matrix_1_iso = affine.scale_matrix(sz=size_z/size_x)  # scale like in MVR calibration\n",
    "    matrix_2_rot = affine.rotation_matrix(theta=np.pi/2, axis='x')  # make so stack direction is y not z(prime) like in lab\n",
    "    matrix_3_scale = affine.scale_matrix(sz=np.sin(opm_angle))  # scale before shear to preserve aspect ratio\n",
    "    matrix_4_shear = affine.skew_matrix(opm_angle)  # shear to deskew\n",
    "\n",
    "    total_matrix = matrix_4_shear @ matrix_3_scale @ matrix_2_rot @ matrix_1_iso\n",
    "    return total_matrix\n",
    "\n",
    "def just_rotate_90():\n",
    "    matrix_2_rot = affine.rotation_matrix(theta=np.pi/2, axis='x')  # make so stack direction is y not z(prime) like in lab\n",
    "    return matrix_2_rot"
   ]
  },
  {
   "cell_type": "code",
   "execution_count": 3,
   "metadata": {},
   "outputs": [
    {
     "name": "stdout",
     "output_type": "stream",
     "text": [
      "size_x 2304\n",
      "size_y 2304\n",
      "size_z 1600\n",
      "<tifffile.TiffPages @9950>\n"
     ]
    }
   ],
   "source": [
    "root_dir = \"E:/dopm_reslicing/y_stage_scan_20241216-171205_c0p0/dOPM_t0000_p0000_z0000_c0000_view1/HamamatsuHam_DCAM-dopm/\"\n",
    "stack_path = os.path.join(root_dir, \"HamamatsuHam_DCAM-dopm_MMStack.ome.tif\")\n",
    "\n",
    "\n",
    "omexml = from_tiff(stack_path)\n",
    "iminfo = omexml.images[0]\n",
    "\n",
    "size_x = iminfo.pixels.size_x\n",
    "size_y = iminfo.pixels.size_y\n",
    "size_z = len(omexml.images)\n",
    "vox_size_x_um = iminfo.pixels.physical_size_x\n",
    "vox_size_y_um = iminfo.pixels.physical_size_y\n",
    "vox_size_z_um = iminfo.pixels.physical_size_z\n",
    "\n",
    "print(\"size_x\", size_x)\n",
    "print(\"size_y\", size_y)\n",
    "print(\"size_z\", size_z)\n",
    "\n",
    "imstack = np.zeros((size_x, size_y, 403), dtype=np.uint16)\n",
    "\n",
    "with TiffFile(stack_path) as tif:\n",
    "    print(tif.pages)\n",
    "    for n, page in enumerate(tif.pages):\n",
    "        # print(\"page\", n)\n",
    "        imstack[:,:,n] = page.asarray().T # transpose for x->y y->x\n",
    "\n"
   ]
  },
  {
   "cell_type": "code",
   "execution_count": 22,
   "metadata": {},
   "outputs": [
    {
     "name": "stdout",
     "output_type": "stream",
     "text": [
      "<tifffile.TiffPages @9950>\n",
      "dataset in E:/dopm_reslicing/y_stage_scan_20241216-171205_c0p0/dOPM_t0000_p0000_z0000_c0000_view1/HamamatsuHam_DCAM-dopm/bdvtest\\stack.h5\n",
      "CPU times: total: 53.6 s\n",
      "Wall time: 1min\n"
     ]
    }
   ],
   "source": [
    "%%time\n",
    "\n",
    "root_dir = \"E:/dopm_reslicing/y_stage_scan_20241216-171205_c0p0/dOPM_t0000_p0000_z0000_c0000_view1/HamamatsuHam_DCAM-dopm/\"\n",
    "stack_path = os.path.join(root_dir, \"HamamatsuHam_DCAM-dopm_MMStack.ome.tif\")\n",
    "\n",
    "nz, ny, nx = 403, 2304, 2304\n",
    "\n",
    "bdv_savedir = os.path.join(root_dir, \"bdvtest\")\n",
    "os.makedirs(bdv_savedir, exist_ok=True)\n",
    "\n",
    "fname = os.path.join(bdv_savedir, \"stack.h5\")\n",
    "bdv_writer = BdvWriter(fname, nchannels=1, nilluminations=1, nangles=1)\n",
    "\n",
    "# bdv_writer.set_attribute_labels('channel', ('488', '561'))\n",
    "# bdv_writer.set_attribute_labels('illumination', ('L', 'R'))\n",
    "bdv_writer.set_attribute_labels('angle', ('0'))\n",
    "\n",
    "imstack = np.zeros((size_x, size_y, 403), dtype=np.uint16)\n",
    "\n",
    "omexml = from_tiff(stack_path)\n",
    "iminfo = omexml.images[0]\n",
    "\n",
    "size_x = iminfo.pixels.size_x\n",
    "size_y = iminfo.pixels.size_y\n",
    "size_z = len(omexml.images)\n",
    "vox_size_x_um = iminfo.pixels.physical_size_x\n",
    "vox_size_y_um = iminfo.pixels.physical_size_y\n",
    "vox_size_z_um = iminfo.pixels.physical_size_z\n",
    "\n",
    "with TiffFile(stack_path) as tif:\n",
    "    print(tif.pages)\n",
    "    for n, page in enumerate(tif.pages):\n",
    "        # print(\"page\", n)\n",
    "        imstack[:,:,n] = page.asarray().T # transpose for x->y y->x\n",
    "\n",
    "affine_matrix = just_rotate_90(square=False)\n",
    "OPM_ANGLE = 45\n",
    "angles = [0, 90]\n",
    "for a in range(1):\n",
    "    bdv_writer.append_view(imstack, angle=angles[a],\n",
    "            calibration=(vox_size_x_um, vox_size_y_um, vox_size_z_um))\n",
    "    bdv_writer.write_xml()\n",
    "    bdv_writer.append_affine(\n",
    "        affine.rotation_matrix(theta=np.pi/2, axis='x'),\n",
    "        name_affine='90 deg rotation about x')\n",
    "    skew_angle = np.pi*(angles[a]-OPM_ANGLE)/180\n",
    "    bdv_writer.append_affine(\n",
    "        affine.scale_matrix(sz=np.sin(skew_angle),\n",
    "        name_affine='scale before shear'))\n",
    "    bdv_writer.append_affine(\n",
    "        affine.skew_matrix(skew_angle),\n",
    "        name_affine='shear to deskew')\n",
    "bdv_writer.write_xml()\n",
    "bdv_writer.close()\n",
    "print(f\"dataset in {fname}\")\n",
    "\n"
   ]
  },
  {
   "cell_type": "code",
   "execution_count": 5,
   "metadata": {},
   "outputs": [],
   "source": [
    "\n",
    "\n",
    "just_rot = just_rotate_90()\n",
    "imstack_rot = affine_transform(imstack, just_rot)"
   ]
  },
  {
   "cell_type": "code",
   "execution_count": 13,
   "metadata": {},
   "outputs": [],
   "source": [
    "# make imstack_rot (z,y,x) instead of (x,y,z)\n",
    "imstack_rot2 = np.moveaxis(imstack_rot, [0,1,2], [2,1,0])\n",
    "imstack_rot2.shape\n",
    "\n",
    "imwrite(\"testrot.tif\", imstack_rot2)"
   ]
  },
  {
   "cell_type": "code",
   "execution_count": 10,
   "metadata": {},
   "outputs": [
    {
     "ename": "ImportError",
     "evalue": "An error occured when importing Qt dependencies.  Cannot show napari window.  See cause above",
     "output_type": "error",
     "traceback": [
      "\u001b[1;31m---------------------------------------------------------------------------\u001b[0m",
      "\u001b[1;31mQtBindingsNotFoundError\u001b[0m                   Traceback (most recent call last)",
      "File \u001b[1;32mc:\\Users\\lnr19\\Anaconda3\\envs\\dopm_bdv\\Lib\\site-packages\\napari\\_qt\\__init__.py:9\u001b[0m\n\u001b[0;32m      8\u001b[0m \u001b[38;5;28;01mtry\u001b[39;00m:\n\u001b[1;32m----> 9\u001b[0m     \u001b[38;5;28;01mfrom\u001b[39;00m\u001b[38;5;250m \u001b[39m\u001b[38;5;21;01mqtpy\u001b[39;00m\u001b[38;5;250m \u001b[39m\u001b[38;5;28;01mimport\u001b[39;00m API_NAME, QT_VERSION, QtCore\n\u001b[0;32m     10\u001b[0m \u001b[38;5;28;01mexcept\u001b[39;00m \u001b[38;5;167;01mException\u001b[39;00m \u001b[38;5;28;01mas\u001b[39;00m e:\n",
      "File \u001b[1;32mc:\\Users\\lnr19\\Anaconda3\\envs\\dopm_bdv\\Lib\\site-packages\\qtpy\\__init__.py:293\u001b[0m\n\u001b[0;32m    292\u001b[0m \u001b[38;5;28;01mexcept\u001b[39;00m \u001b[38;5;167;01mImportError\u001b[39;00m:\n\u001b[1;32m--> 293\u001b[0m     \u001b[38;5;28;01mraise\u001b[39;00m QtBindingsNotFoundError \u001b[38;5;28;01mfrom\u001b[39;00m\u001b[38;5;250m \u001b[39m\u001b[38;5;28;01mNone\u001b[39;00m\n\u001b[0;32m    294\u001b[0m \u001b[38;5;28;01melse\u001b[39;00m:\n",
      "\u001b[1;31mQtBindingsNotFoundError\u001b[0m: No Qt bindings could be found",
      "\nThe above exception was the direct cause of the following exception:\n",
      "\u001b[1;31mImportError\u001b[0m                               Traceback (most recent call last)",
      "File \u001b[1;32mc:\\Users\\lnr19\\Anaconda3\\envs\\dopm_bdv\\Lib\\site-packages\\napari\\window.py:14\u001b[0m\n\u001b[0;32m     13\u001b[0m \u001b[38;5;28;01mtry\u001b[39;00m:\n\u001b[1;32m---> 14\u001b[0m     \u001b[38;5;28;01mfrom\u001b[39;00m\u001b[38;5;250m \u001b[39m\u001b[38;5;21;01mnapari\u001b[39;00m\u001b[38;5;21;01m.\u001b[39;00m\u001b[38;5;21;01m_qt\u001b[39;00m\u001b[38;5;250m \u001b[39m\u001b[38;5;28;01mimport\u001b[39;00m Window\n\u001b[0;32m     16\u001b[0m \u001b[38;5;28;01mexcept\u001b[39;00m \u001b[38;5;167;01mImportError\u001b[39;00m \u001b[38;5;28;01mas\u001b[39;00m e:\n",
      "File \u001b[1;32mc:\\Users\\lnr19\\Anaconda3\\envs\\dopm_bdv\\Lib\\site-packages\\napari\\_qt\\__init__.py:18\u001b[0m\n\u001b[0;32m     14\u001b[0m     installed_with_conda \u001b[38;5;241m=\u001b[39m \u001b[38;5;28mlist\u001b[39m(\n\u001b[0;32m     15\u001b[0m         Path(sys\u001b[38;5;241m.\u001b[39mprefix, \u001b[38;5;124m'\u001b[39m\u001b[38;5;124mconda-meta\u001b[39m\u001b[38;5;124m'\u001b[39m)\u001b[38;5;241m.\u001b[39mglob(\u001b[38;5;124m'\u001b[39m\u001b[38;5;124mnapari-*.json\u001b[39m\u001b[38;5;124m'\u001b[39m)\n\u001b[0;32m     16\u001b[0m     )\n\u001b[1;32m---> 18\u001b[0m     \u001b[38;5;28;01mraise\u001b[39;00m \u001b[38;5;167;01mImportError\u001b[39;00m(\n\u001b[0;32m     19\u001b[0m         trans\u001b[38;5;241m.\u001b[39m_(\n\u001b[0;32m     20\u001b[0m             cleandoc(\n\u001b[0;32m     21\u001b[0m \u001b[38;5;250m                \u001b[39m\u001b[38;5;124;03m\"\"\"\u001b[39;00m\n\u001b[0;32m     22\u001b[0m \u001b[38;5;124;03m            No Qt bindings could be found.\u001b[39;00m\n\u001b[0;32m     23\u001b[0m \n\u001b[0;32m     24\u001b[0m \u001b[38;5;124;03m            napari requires either PyQt5 (default) or PySide2 to be installed in the environment.\u001b[39;00m\n\u001b[0;32m     25\u001b[0m \n\u001b[0;32m     26\u001b[0m \u001b[38;5;124;03m            With pip, you can install either with:\u001b[39;00m\n\u001b[0;32m     27\u001b[0m \u001b[38;5;124;03m              $ pip install -U 'napari[all]'  # default choice\u001b[39;00m\n\u001b[0;32m     28\u001b[0m \u001b[38;5;124;03m              $ pip install -U 'napari[pyqt5]'\u001b[39;00m\n\u001b[0;32m     29\u001b[0m \u001b[38;5;124;03m              $ pip install -U 'napari[pyside2]'\u001b[39;00m\n\u001b[0;32m     30\u001b[0m \n\u001b[0;32m     31\u001b[0m \u001b[38;5;124;03m            With conda, you need to do:\u001b[39;00m\n\u001b[0;32m     32\u001b[0m \u001b[38;5;124;03m              $ conda install -c conda-forge pyqt\u001b[39;00m\n\u001b[0;32m     33\u001b[0m \u001b[38;5;124;03m              $ conda install -c conda-forge pyside2\u001b[39;00m\n\u001b[0;32m     34\u001b[0m \n\u001b[0;32m     35\u001b[0m \u001b[38;5;124;03m            Our heuristics suggest you are using '{tool}' to manage your packages.\u001b[39;00m\n\u001b[0;32m     36\u001b[0m \u001b[38;5;124;03m            \"\"\"\u001b[39;00m\n\u001b[0;32m     37\u001b[0m             ),\n\u001b[0;32m     38\u001b[0m             deferred\u001b[38;5;241m=\u001b[39m\u001b[38;5;28;01mTrue\u001b[39;00m,\n\u001b[0;32m     39\u001b[0m             tool\u001b[38;5;241m=\u001b[39m\u001b[38;5;124m'\u001b[39m\u001b[38;5;124mconda\u001b[39m\u001b[38;5;124m'\u001b[39m \u001b[38;5;28;01mif\u001b[39;00m installed_with_conda \u001b[38;5;28;01melse\u001b[39;00m \u001b[38;5;124m'\u001b[39m\u001b[38;5;124mpip\u001b[39m\u001b[38;5;124m'\u001b[39m,\n\u001b[0;32m     40\u001b[0m         )\n\u001b[0;32m     41\u001b[0m     ) \u001b[38;5;28;01mfrom\u001b[39;00m\u001b[38;5;250m \u001b[39m\u001b[38;5;21;01me\u001b[39;00m\n\u001b[0;32m     42\u001b[0m \u001b[38;5;28;01mraise\u001b[39;00m\n",
      "\u001b[1;31mImportError\u001b[0m: No Qt bindings could be found.\n\nnapari requires either PyQt5 (default) or PySide2 to be installed in the environment.\n\nWith pip, you can install either with:\n  $ pip install -U 'napari[all]'  # default choice\n  $ pip install -U 'napari[pyqt5]'\n  $ pip install -U 'napari[pyside2]'\n\nWith conda, you need to do:\n  $ conda install -c conda-forge pyqt\n  $ conda install -c conda-forge pyside2\n\nOur heuristics suggest you are using 'pip' to manage your packages.",
      "\nThe above exception was the direct cause of the following exception:\n",
      "\u001b[1;31mImportError\u001b[0m                               Traceback (most recent call last)",
      "Cell \u001b[1;32mIn[10], line 3\u001b[0m\n\u001b[0;32m      1\u001b[0m viewer \u001b[38;5;241m=\u001b[39m Viewer()\n\u001b[0;32m      2\u001b[0m viewer\u001b[38;5;241m.\u001b[39madd_image(imstack_rot)\n\u001b[1;32m----> 3\u001b[0m \u001b[43mviewer\u001b[49m\u001b[38;5;241;43m.\u001b[39;49m\u001b[43mshow\u001b[49m\u001b[43m(\u001b[49m\u001b[43m)\u001b[49m\n",
      "File \u001b[1;32mc:\\Users\\lnr19\\Anaconda3\\envs\\dopm_bdv\\Lib\\site-packages\\napari\\viewer.py:192\u001b[0m, in \u001b[0;36mViewer.show\u001b[1;34m(self, block)\u001b[0m\n\u001b[0;32m    190\u001b[0m \u001b[38;5;28;01mdef\u001b[39;00m\u001b[38;5;250m \u001b[39m\u001b[38;5;21mshow\u001b[39m(\u001b[38;5;28mself\u001b[39m, \u001b[38;5;241m*\u001b[39m, block\u001b[38;5;241m=\u001b[39m\u001b[38;5;28;01mFalse\u001b[39;00m):\n\u001b[0;32m    191\u001b[0m \u001b[38;5;250m    \u001b[39m\u001b[38;5;124;03m\"\"\"Resize, show, and raise the viewer window.\"\"\"\u001b[39;00m\n\u001b[1;32m--> 192\u001b[0m     \u001b[38;5;28;43mself\u001b[39;49m\u001b[38;5;241;43m.\u001b[39;49m\u001b[43mwindow\u001b[49m\u001b[38;5;241;43m.\u001b[39;49m\u001b[43mshow\u001b[49m(block\u001b[38;5;241m=\u001b[39mblock)\n",
      "File \u001b[1;32mc:\\Users\\lnr19\\Anaconda3\\envs\\dopm_bdv\\Lib\\site-packages\\napari\\window.py:27\u001b[0m, in \u001b[0;36mWindow.__getattr__\u001b[1;34m(self, name)\u001b[0m\n\u001b[0;32m     26\u001b[0m \u001b[38;5;28;01mdef\u001b[39;00m\u001b[38;5;250m \u001b[39m\u001b[38;5;21m__getattr__\u001b[39m(\u001b[38;5;28mself\u001b[39m, name):\n\u001b[1;32m---> 27\u001b[0m     \u001b[38;5;28;01mraise\u001b[39;00m \u001b[38;5;28mtype\u001b[39m(err)(\n\u001b[0;32m     28\u001b[0m         trans\u001b[38;5;241m.\u001b[39m_(\n\u001b[0;32m     29\u001b[0m             \u001b[38;5;124m'\u001b[39m\u001b[38;5;124mAn error occured when importing Qt dependencies.  Cannot show napari window.  See cause above\u001b[39m\u001b[38;5;124m'\u001b[39m,\n\u001b[0;32m     30\u001b[0m         )\n\u001b[0;32m     31\u001b[0m     ) \u001b[38;5;28;01mfrom\u001b[39;00m\u001b[38;5;250m \u001b[39m\u001b[38;5;21;01merr\u001b[39;00m\n",
      "\u001b[1;31mImportError\u001b[0m: An error occured when importing Qt dependencies.  Cannot show napari window.  See cause above"
     ]
    }
   ],
   "source": [
    "viewer = Viewer()\n",
    "viewer.add_image(imstack_rot)\n",
    "viewer.show()"
   ]
  },
  {
   "cell_type": "code",
   "execution_count": null,
   "metadata": {},
   "outputs": [],
   "source": []
  }
 ],
 "metadata": {
  "kernelspec": {
   "display_name": "dopm_bdv",
   "language": "python",
   "name": "python3"
  },
  "language_info": {
   "codemirror_mode": {
    "name": "ipython",
    "version": 3
   },
   "file_extension": ".py",
   "mimetype": "text/x-python",
   "name": "python",
   "nbconvert_exporter": "python",
   "pygments_lexer": "ipython3",
   "version": "3.12.8"
  }
 },
 "nbformat": 4,
 "nbformat_minor": 2
}
