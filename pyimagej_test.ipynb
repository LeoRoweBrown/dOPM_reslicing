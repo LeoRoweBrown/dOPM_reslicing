{
 "cells": [
  {
   "cell_type": "code",
   "execution_count": 2,
   "id": "7ef3fb5e-0957-492a-a06f-3d1710f5472b",
   "metadata": {},
   "outputs": [],
   "source": [
    "# import h5py\n",
    "# import numpy as np\n",
    "# from tifffile import imwrite, imread, tiffcomment, TiffFile\n",
    "# from ome_types import from_tiff\n",
    "# from glob import glob\n",
    "# import os\n",
    "# import affine_matrices as affine\n",
    "# from scipy.ndimage import affine_transform\n",
    "# from timeit import default_timer as timer\n",
    "# from npy2bdv import BdvWriter\n",
    "# from napari import Viewer\n",
    "# import lxml\n",
    "# from datetime import datetime\n",
    "import imagej, scyjava\n",
    "import testpyimagej\n",
    "import fusion_functions"
   ]
  },
  {
   "cell_type": "code",
   "execution_count": 3,
   "id": "b3cf9830-5c78-4aae-a73f-1ffdbabd78b8",
   "metadata": {},
   "outputs": [
    {
     "name": "stdout",
     "output_type": "stream",
     "text": [
      "Downloading ImageJ with ['sc.fiji:fiji:2.16.0', 'net.preibisch:BigStitcher:2.2.1', 'net.preibisch:multiview-reconstruction:4.3.1']\n"
     ]
    },
    {
     "ename": "RuntimeError",
     "evalue": "Unable to start JVM",
     "output_type": "error",
     "traceback": [
      "\u001b[1;31m---------------------------------------------------------------------------\u001b[0m",
      "\u001b[1;31mRuntimeError\u001b[0m                              Traceback (most recent call last)",
      "Cell \u001b[1;32mIn[3], line 4\u001b[0m\n\u001b[0;32m      1\u001b[0m imagej_download_options\u001b[38;5;241m=\u001b[39m[\u001b[38;5;124m'\u001b[39m\u001b[38;5;124msc.fiji:fiji:2.16.0\u001b[39m\u001b[38;5;124m'\u001b[39m, \n\u001b[0;32m      2\u001b[0m                         \u001b[38;5;124m'\u001b[39m\u001b[38;5;124mnet.preibisch:BigStitcher:2.2.1\u001b[39m\u001b[38;5;124m'\u001b[39m,\n\u001b[0;32m      3\u001b[0m                         \u001b[38;5;124m'\u001b[39m\u001b[38;5;124mnet.preibisch:multiview-reconstruction:4.3.1\u001b[39m\u001b[38;5;124m'\u001b[39m]\n\u001b[1;32m----> 4\u001b[0m \u001b[43mfusion_functions\u001b[49m\u001b[38;5;241;43m.\u001b[39;49m\u001b[43mtest_getimagej\u001b[49m\u001b[43m(\u001b[49m\u001b[43mimagej_download_options\u001b[49m\u001b[38;5;241;43m=\u001b[39;49m\u001b[43mimagej_download_options\u001b[49m\u001b[43m)\u001b[49m\n\u001b[0;32m      5\u001b[0m \u001b[38;5;66;03m# fusion_functions.get_imagej_instance(imagej_download_options=imagej_download_options)\u001b[39;00m\n",
      "File \u001b[1;32mG:\\Data\\dOPM_leo\\dOPM_reslicing\\fusion_functions.py:46\u001b[0m, in \u001b[0;36mtest_getimagej\u001b[1;34m(imagej_download_options)\u001b[0m\n\u001b[0;32m     43\u001b[0m \u001b[38;5;28;01mdef\u001b[39;00m\u001b[38;5;250m \u001b[39m\u001b[38;5;21mtest_getimagej\u001b[39m(imagej_download_options\u001b[38;5;241m=\u001b[39m[\u001b[38;5;124m'\u001b[39m\u001b[38;5;124msc.fiji:fiji:2.16.0\u001b[39m\u001b[38;5;124m'\u001b[39m, \n\u001b[0;32m     44\u001b[0m                                             \u001b[38;5;124m'\u001b[39m\u001b[38;5;124mnet.preibisch:BigStitcher:2.2.1\u001b[39m\u001b[38;5;124m'\u001b[39m,\n\u001b[0;32m     45\u001b[0m                                             \u001b[38;5;124m'\u001b[39m\u001b[38;5;124mnet.preibisch:multiview-reconstruction:4.3.1\u001b[39m\u001b[38;5;124m'\u001b[39m]):\n\u001b[1;32m---> 46\u001b[0m     ij \u001b[38;5;241m=\u001b[39m \u001b[43mget_imagej_instance\u001b[49m\u001b[43m(\u001b[49m\u001b[43mimagej_download_options\u001b[49m\u001b[43m)\u001b[49m\n",
      "File \u001b[1;32mG:\\Data\\dOPM_leo\\dOPM_reslicing\\fusion_functions.py:32\u001b[0m, in \u001b[0;36mget_imagej_instance\u001b[1;34m(memory_gb, imagej_dir, download_imagej, imagej_mode, imagej_download_options)\u001b[0m\n\u001b[0;32m     30\u001b[0m \u001b[38;5;28;01mif\u001b[39;00m download_imagej:\n\u001b[0;32m     31\u001b[0m     \u001b[38;5;28mprint\u001b[39m(\u001b[38;5;124m\"\u001b[39m\u001b[38;5;124mDownloading ImageJ with\u001b[39m\u001b[38;5;124m\"\u001b[39m, imagej_download_options)\n\u001b[1;32m---> 32\u001b[0m     ij_instance \u001b[38;5;241m=\u001b[39m \u001b[43mimagej\u001b[49m\u001b[38;5;241;43m.\u001b[39;49m\u001b[43minit\u001b[49m\u001b[43m(\u001b[49m\u001b[43mimagej_download_options\u001b[49m\u001b[43m,\u001b[49m\u001b[43m \u001b[49m\u001b[43mmode\u001b[49m\u001b[38;5;241;43m=\u001b[39;49m\u001b[43mimagej_mode\u001b[49m\u001b[43m)\u001b[49m\n\u001b[0;32m     33\u001b[0m \u001b[38;5;28;01melif\u001b[39;00m imagej_dir \u001b[38;5;129;01mis\u001b[39;00m \u001b[38;5;129;01mnot\u001b[39;00m \u001b[38;5;28;01mNone\u001b[39;00m:\n\u001b[0;32m     34\u001b[0m     \u001b[38;5;28mprint\u001b[39m(\u001b[38;5;124mf\u001b[39m\u001b[38;5;124m\"\u001b[39m\u001b[38;5;124mOpening ImageJ from \u001b[39m\u001b[38;5;132;01m{\u001b[39;00mimagej_dir\u001b[38;5;132;01m}\u001b[39;00m\u001b[38;5;124m\"\u001b[39m)\n",
      "File \u001b[1;32m~\\AppData\\Local\\miniforge3\\envs\\dopm_pyimagej\\Lib\\site-packages\\imagej\\__init__.py:1229\u001b[0m, in \u001b[0;36minit\u001b[1;34m(ij_dir_or_version_or_endpoint, mode, add_legacy, headless)\u001b[0m\n\u001b[0;32m   1224\u001b[0m         \u001b[38;5;28;01mraise\u001b[39;00m \u001b[38;5;167;01mEnvironmentError\u001b[39;00m(\n\u001b[0;32m   1225\u001b[0m             \u001b[38;5;124m\"\u001b[39m\u001b[38;5;124mSorry, the interactive mode is not available on macOS.\u001b[39m\u001b[38;5;124m\"\u001b[39m\n\u001b[0;32m   1226\u001b[0m         )\n\u001b[0;32m   1228\u001b[0m \u001b[38;5;28;01mif\u001b[39;00m \u001b[38;5;129;01mnot\u001b[39;00m sj\u001b[38;5;241m.\u001b[39mjvm_started():\n\u001b[1;32m-> 1229\u001b[0m     success \u001b[38;5;241m=\u001b[39m \u001b[43m_create_jvm\u001b[49m\u001b[43m(\u001b[49m\u001b[43mij_dir_or_version_or_endpoint\u001b[49m\u001b[43m,\u001b[49m\u001b[43m \u001b[49m\u001b[43mmode\u001b[49m\u001b[43m,\u001b[49m\u001b[43m \u001b[49m\u001b[43madd_legacy\u001b[49m\u001b[43m)\u001b[49m\n\u001b[0;32m   1230\u001b[0m     \u001b[38;5;28;01mif\u001b[39;00m \u001b[38;5;129;01mnot\u001b[39;00m success:\n\u001b[0;32m   1231\u001b[0m         \u001b[38;5;28;01mraise\u001b[39;00m \u001b[38;5;167;01mRuntimeError\u001b[39;00m(\u001b[38;5;124m\"\u001b[39m\u001b[38;5;124mFailed to create a JVM with the requested environment.\u001b[39m\u001b[38;5;124m\"\u001b[39m)\n",
      "File \u001b[1;32m~\\AppData\\Local\\miniforge3\\envs\\dopm_pyimagej\\Lib\\site-packages\\imagej\\__init__.py:1501\u001b[0m, in \u001b[0;36m_create_jvm\u001b[1;34m(ij_dir_or_version_or_endpoint, mode, add_legacy)\u001b[0m\n\u001b[0;32m   1498\u001b[0m sj\u001b[38;5;241m.\u001b[39mconfig\u001b[38;5;241m.\u001b[39mendpoints\u001b[38;5;241m.\u001b[39mextend(original_endpoints)\n\u001b[0;32m   1500\u001b[0m \u001b[38;5;28;01mtry\u001b[39;00m:\n\u001b[1;32m-> 1501\u001b[0m     \u001b[43msj\u001b[49m\u001b[38;5;241;43m.\u001b[39;49m\u001b[43mstart_jvm\u001b[49m\u001b[43m(\u001b[49m\u001b[43m)\u001b[49m\n\u001b[0;32m   1502\u001b[0m \u001b[38;5;28;01mexcept\u001b[39;00m subprocess\u001b[38;5;241m.\u001b[39mCalledProcessError \u001b[38;5;28;01mas\u001b[39;00m e:\n\u001b[0;32m   1503\u001b[0m     \u001b[38;5;66;03m# Check to see if initialization failed due to \"un-managed\"\u001b[39;00m\n\u001b[0;32m   1504\u001b[0m     \u001b[38;5;66;03m# imagej-legacy\u001b[39;00m\n\u001b[0;32m   1505\u001b[0m     err_lines \u001b[38;5;241m=\u001b[39m []\n",
      "File \u001b[1;32m~\\AppData\\Local\\miniforge3\\envs\\dopm_pyimagej\\Lib\\site-packages\\scyjava\\_jvm.py:182\u001b[0m, in \u001b[0;36mstart_jvm\u001b[1;34m(options)\u001b[0m\n\u001b[0;32m    180\u001b[0m \u001b[38;5;28;01mif\u001b[39;00m options \u001b[38;5;129;01mis\u001b[39;00m \u001b[38;5;28;01mNone\u001b[39;00m:\n\u001b[0;32m    181\u001b[0m     options \u001b[38;5;241m=\u001b[39m scyjava\u001b[38;5;241m.\u001b[39mconfig\u001b[38;5;241m.\u001b[39mget_options()\n\u001b[1;32m--> 182\u001b[0m \u001b[43mjpype\u001b[49m\u001b[38;5;241;43m.\u001b[39;49m\u001b[43mstartJVM\u001b[49m\u001b[43m(\u001b[49m\u001b[38;5;241;43m*\u001b[39;49m\u001b[43moptions\u001b[49m\u001b[43m,\u001b[49m\u001b[43m \u001b[49m\u001b[43minterrupt\u001b[49m\u001b[38;5;241;43m=\u001b[39;49m\u001b[38;5;28;43;01mTrue\u001b[39;49;00m\u001b[43m)\u001b[49m\n\u001b[0;32m    184\u001b[0m \u001b[38;5;66;03m# replace JPype/JVM shutdown handling with our own\u001b[39;00m\n\u001b[0;32m    185\u001b[0m jpype\u001b[38;5;241m.\u001b[39mconfig\u001b[38;5;241m.\u001b[39monexit \u001b[38;5;241m=\u001b[39m \u001b[38;5;28;01mFalse\u001b[39;00m\n",
      "File \u001b[1;32m~\\AppData\\Local\\miniforge3\\envs\\dopm_pyimagej\\Lib\\site-packages\\jpype\\_core.py:298\u001b[0m, in \u001b[0;36mstartJVM\u001b[1;34m(jvmpath, classpath, ignoreUnrecognized, convertStrings, interrupt, *jvmargs)\u001b[0m\n\u001b[0;32m    296\u001b[0m prior \u001b[38;5;241m=\u001b[39m [locale\u001b[38;5;241m.\u001b[39mgetlocale(i) \u001b[38;5;28;01mfor\u001b[39;00m i \u001b[38;5;129;01min\u001b[39;00m categories]\n\u001b[0;32m    297\u001b[0m \u001b[38;5;66;03m# Start the JVM\u001b[39;00m\n\u001b[1;32m--> 298\u001b[0m \u001b[43m_jpype\u001b[49m\u001b[38;5;241;43m.\u001b[39;49m\u001b[43mstartup\u001b[49m\u001b[43m(\u001b[49m\u001b[43mjvmpath\u001b[49m\u001b[43m,\u001b[49m\u001b[43m \u001b[49m\u001b[43mjvmargs\u001b[49m\u001b[43m \u001b[49m\u001b[38;5;241;43m+\u001b[39;49m\u001b[43m \u001b[49m\u001b[38;5;28;43mtuple\u001b[39;49m\u001b[43m(\u001b[49m\u001b[43mextra_jvm_args\u001b[49m\u001b[43m)\u001b[49m\u001b[43m,\u001b[49m\n\u001b[0;32m    299\u001b[0m \u001b[43m               \u001b[49m\u001b[43mignoreUnrecognized\u001b[49m\u001b[43m,\u001b[49m\u001b[43m \u001b[49m\u001b[43mconvertStrings\u001b[49m\u001b[43m,\u001b[49m\u001b[43m \u001b[49m\u001b[43minterrupt\u001b[49m\u001b[43m)\u001b[49m\n\u001b[0;32m    300\u001b[0m \u001b[38;5;66;03m# Collect required resources for operation\u001b[39;00m\n\u001b[0;32m    301\u001b[0m initializeResources()\n",
      "\u001b[1;31mRuntimeError\u001b[0m: Unable to start JVM"
     ]
    }
   ],
   "source": [
    "imagej_download_options=['sc.fiji:fiji:2.16.0', \n",
    "                        'net.preibisch:BigStitcher:2.2.1',\n",
    "                        'net.preibisch:multiview-reconstruction:4.3.1']\n",
    "fusion_functions.test_getimagej(imagej_download_options=imagej_download_options)\n",
    "# fusion_functions.get_imagej_instance(imagej_download_options=imagej_download_options)"
   ]
  },
  {
   "cell_type": "code",
   "execution_count": null,
   "id": "1d3052d3-9667-46f4-94ae-e819dcd9e410",
   "metadata": {},
   "outputs": [
    {
     "name": "stdout",
     "output_type": "stream",
     "text": [
      "Downloading ImageJ\n"
     ]
    }
   ],
   "source": [
    "testpyimagej.test_pyimagej()"
   ]
  },
  {
   "cell_type": "code",
   "execution_count": null,
   "id": "c1988828-b407-4354-8d9a-d8f632915756",
   "metadata": {},
   "outputs": [
    {
     "name": "stdout",
     "output_type": "stream",
     "text": [
      "Downloading ImageJ\n"
     ]
    }
   ],
   "source": [
    "memory_gb = 50\n",
    "scyjava.config.add_option(f\"-Xmx{memory_gb}g\")\n",
    "mode = 'interactive'\n",
    "mode = 'gui'\n",
    "\n",
    "download_imagej = True\n",
    "imagej_dir = \"A:/leo_imagej/fiji-win64/fiji-win64/Fiji.app\"\n",
    "imagej_dir = \"C:/Users/lnr19/OneDrive - Imperial College London/postdoc_2024/fiji-win64/Fiji.app/\"\n",
    "\n",
    "if 'ij' not in globals():\n",
    "    # ij = imagej.init('sc.fiji:fiji:2.14.0')\n",
    "    if download_imagej:\n",
    "        print(\"Downloading ImageJ\")\n",
    "        # ij = imagej.init(['sc.fiji:fiji:2.16.0', 'net.preibisch:BigStitcher:2.3.1', 'net.preibisch:multiview-reconstruction:4.3.6'], mode=mode)\n",
    "        ij = imagej.init(['sc.fiji:fiji:2.16.0', 'net.preibisch:BigStitcher:2.3.1', 'net.preibisch:multiview-reconstruction:5.0.3'], mode=mode)\n",
    "\n",
    "        # ij = imagej.init('net.preibisch:BigStitcher:2.2.1', mode=mode)\n",
    "\n",
    "    elif imagej_dir is not None:\n",
    "        print(f\"Opening ImageJ from {imagej_dir}\")\n",
    "        ij = imagej.init(imagej_dir, mode=mode)\n",
    "    else:\n",
    "        raise FileNotFoundError(\"No imageJ dir given, use download ImageJ=True\")\n",
    "    print(\"Created ImageJ instance\", ij.getVersion()) \n",
    "else:\n",
    "    print(f\"ImageJ instance already exists ({ij.getVersion()})\")\n"
   ]
  },
  {
   "cell_type": "code",
   "execution_count": 1,
   "id": "1bc78d93-3f9e-41de-a9a9-913782e8df9a",
   "metadata": {},
   "outputs": [
    {
     "ename": "NameError",
     "evalue": "name 'ij' is not defined",
     "output_type": "error",
     "traceback": [
      "\u001b[1;31m---------------------------------------------------------------------------\u001b[0m",
      "\u001b[1;31mNameError\u001b[0m                                 Traceback (most recent call last)",
      "Cell \u001b[1;32mIn[1], line 22\u001b[0m\n\u001b[0;32m      1\u001b[0m \u001b[38;5;66;03m# Define the parameters\u001b[39;00m\n\u001b[0;32m      2\u001b[0m params \u001b[38;5;241m=\u001b[39m {\n\u001b[0;32m      3\u001b[0m     \u001b[38;5;124m\"\u001b[39m\u001b[38;5;124mselect\u001b[39m\u001b[38;5;124m\"\u001b[39m: \u001b[38;5;124m\"\u001b[39m\u001b[38;5;124mA:/leo/micromanager/bone_marrow_2nd/aml/data/deskewed_20250122-222922/pos_p0000/dataset.xml\u001b[39m\u001b[38;5;124m\"\u001b[39m,\n\u001b[0;32m      4\u001b[0m     \u001b[38;5;124m\"\u001b[39m\u001b[38;5;124mprocess_angle\u001b[39m\u001b[38;5;124m\"\u001b[39m: \u001b[38;5;124m\"\u001b[39m\u001b[38;5;124m[All angles]\u001b[39m\u001b[38;5;124m\"\u001b[39m,\n\u001b[1;32m   (...)\u001b[0m\n\u001b[0;32m     19\u001b[0m     \u001b[38;5;124m\"\u001b[39m\u001b[38;5;124mfilename_addition\u001b[39m\u001b[38;5;124m\"\u001b[39m: \u001b[38;5;124m\"\u001b[39m\u001b[38;5;124m[pyimagej]\u001b[39m\u001b[38;5;124m\"\u001b[39m\n\u001b[0;32m     20\u001b[0m }\n\u001b[1;32m---> 22\u001b[0m jparams \u001b[38;5;241m=\u001b[39m \u001b[43mij\u001b[49m\u001b[38;5;241m.\u001b[39mpy\u001b[38;5;241m.\u001b[39mto_java(params)\n\u001b[0;32m     23\u001b[0m jparams \u001b[38;5;241m=\u001b[39m ij\u001b[38;5;241m.\u001b[39mpy\u001b[38;5;241m.\u001b[39mjargs(params)\n\u001b[0;32m     25\u001b[0m \u001b[38;5;66;03m# Run the Image Fusion command with the parameters\u001b[39;00m\n",
      "\u001b[1;31mNameError\u001b[0m: name 'ij' is not defined"
     ]
    }
   ],
   "source": [
    "# Define the parameters\n",
    "params = {\n",
    "    \"select\": \"A:/leo/micromanager/bone_marrow_2nd/aml/data/deskewed_20250122-222922/pos_p0000/dataset.xml\",\n",
    "    \"process_angle\": \"[All angles]\",\n",
    "    \"process_channel\": \"[All channels]\",\n",
    "    \"process_illumination\": \"[All illuminations]\",\n",
    "    \"process_tile\": \"[All tiles]\",\n",
    "    \"process_timepoint\": \"[All Timepoints]\",\n",
    "    \"bounding_box\": \"[Currently Selected Views]\",\n",
    "    \"downsampling\": \"4\",\n",
    "    \"interpolation\": \"[Linear Interpolation]\",\n",
    "    \"fusion_type\": \"[Avg, Blending]\",\n",
    "    \"pixel_type\": \"[16-bit unsigned integer]\",\n",
    "    \"interest_points_for_non_rigid\": \"[-= Disable Non-Rigid =-]\",\n",
    "    \"produce\": \"[Each timepoint & channel]\",\n",
    "    \"fused_image\": \"[Save as (compressed) TIFF stacks]\",\n",
    "    \"define_input\": \"[Auto-load from input data (values shown below)]\",\n",
    "    \"output_file_directory\": \"A:/leo/micromanager/bone_marrow_2nd/aml/data/deskewed_20250122-222922/pos_p0000\",\n",
    "    \"filename_addition\": \"[pyimagej]\"\n",
    "}\n",
    "\n",
    "jparams = ij.py.to_java(params)\n",
    "jparams = ij.py.jargs(params)\n",
    "\n",
    "# Run the Image Fusion command with the parameters\n",
    "result = ij.py.run_plugin(\"Image Fusion\", params)  # this line works!"
   ]
  },
  {
   "cell_type": "code",
   "execution_count": 23,
   "id": "4a339f86-9170-4ad9-9e21-a1dc829eb594",
   "metadata": {},
   "outputs": [],
   "source": [
    "macro = \"\"\"\n",
    "run(\"Image Fusion\", \"select=A:/leo/micromanager/bone_marrow_2nd/aml/data/deskewed_20250122-222922/pos_p0000/dataset.xml process_angle=[All angles] process_channel=[All channels] process_illumination=[All illuminations] process_tile=[All tiles] process_timepoint=[All Timepoints] bounding_box=[Currently Selected Views] downsampling=4 interpolation=[Linear Interpolation] fusion_type=[Avg, Blending] pixel_type=[16-bit unsigned integer] interest_points_for_non_rigid=[-= Disable Non-Rigid =-] produce=[Each timepoint & channel] fused_image=[Save as (compressed) TIFF stacks] define_input=[Auto-load from input data (values shown below)] output_file_directory=A:/leo/micromanager/bone_marrow_2nd/aml/data/deskewed_20250122-222922/pos_p0000 filename_addition=[pyimagej]\");\n",
    "\"\"\"\n",
    "\n",
    "macro = \"\"\"\n",
    "run(\"Image Fusion\", \"select=A:\\\\\\\\leo\\\\\\\\micromanager\\\\\\\\bone_marrow_2nd\\\\\\\\aml\\\\\\\\data\\\\\\\\deskewed_20250122-222922\\\\\\\\pos_p0000\\\\\\\\dataset.xml process_angle=[All angles] process_channel=[All channels] process_illumination=[All illuminations] process_tile=[All tiles] process_timepoint=[All Timepoints] bounding_box=[Currently Selected Views] downsampling=4 interpolation=[Linear Interpolation] fusion_type=[Avg, Blending] pixel_type=[16-bit unsigned integer] interest_points_for_non_rigid=[-= Disable Non-Rigid =-] produce=[Each timepoint & channel] fused_image=[Save as (compressed) TIFF stacks] define_input=[Auto-load from input data (values shown below)] output_file_directory=A:\\\\\\\\leo\\\\\\\\micromanager\\\\\\\\bone_marrow_2nd\\\\\\\\aml\\\\\\\\data\\\\\\\\deskewed_20250122-222922\\\\\\\\pos_p0000 filename_addition=[pyimagej]\");\"\"\"\n",
    "result = ij.py.run_macro(macro)\n",
    "\n",
    "result = ij.py.run_plugin(\"Image Fusion\", params)  # this line works!"
   ]
  },
  {
   "cell_type": "code",
   "execution_count": 7,
   "id": "20b0a04e-fe47-4c42-b8f6-f3d9764eac70",
   "metadata": {},
   "outputs": [],
   "source": []
  },
  {
   "cell_type": "code",
   "execution_count": null,
   "id": "ba75b833-b410-457f-8e24-fcccca20e1dc",
   "metadata": {},
   "outputs": [],
   "source": []
  }
 ],
 "metadata": {
  "kernelspec": {
   "display_name": "Python 3 (ipykernel)",
   "language": "python",
   "name": "python3"
  },
  "language_info": {
   "codemirror_mode": {
    "name": "ipython",
    "version": 3
   },
   "file_extension": ".py",
   "mimetype": "text/x-python",
   "name": "python",
   "nbconvert_exporter": "python",
   "pygments_lexer": "ipython3",
   "version": "3.12.8"
  }
 },
 "nbformat": 4,
 "nbformat_minor": 5
}
