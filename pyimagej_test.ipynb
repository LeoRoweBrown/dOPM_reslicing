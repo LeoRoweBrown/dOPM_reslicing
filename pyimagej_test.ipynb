{
 "cells": [
  {
   "cell_type": "code",
   "execution_count": null,
   "id": "7ef3fb5e-0957-492a-a06f-3d1710f5472b",
   "metadata": {},
   "outputs": [],
   "source": [
    "# import h5py\n",
    "# import numpy as np\n",
    "# from tifffile import imwrite, imread, tiffcomment, TiffFile\n",
    "# from ome_types import from_tiff\n",
    "# from glob import glob\n",
    "# import os\n",
    "# import affine_matrices as affine\n",
    "# from scipy.ndimage import affine_transform\n",
    "# from timeit import default_timer as timer\n",
    "# from npy2bdv import BdvWriter\n",
    "# from napari import Viewer\n",
    "# import lxml\n",
    "# from datetime import datetime\n",
    "import imagej, scyjava"
   ]
  },
  {
   "cell_type": "code",
   "execution_count": 4,
   "id": "c1988828-b407-4354-8d9a-d8f632915756",
   "metadata": {},
   "outputs": [
    {
     "name": "stdout",
     "output_type": "stream",
     "text": [
      "Created ImageJ instance 2.14.0/1.54g\n"
     ]
    }
   ],
   "source": [
    "memory_gb = 50\n",
    "scyjava.config.add_option(f\"-Xmx{memory_gb}g\")\n",
    "\n",
    "download_imagej = False\n",
    "imagej_dir = \"A:/leo_imagej/fiji-win64/fiji-win64/Fiji.app\"\n",
    "\n",
    "if 'ij' not in globals():\n",
    "    # ij = imagej.init('sc.fiji:fiji:2.14.0')\n",
    "    if download_imagej:\n",
    "        print(\"Downloading ImageJ\")\n",
    "        ij = imagej.init(['sc.fiji:fiji:2.14.0', 'net.preibisch:BigStitcher:2.2.1'], mode='interactive')\n",
    "    elif imagej_dir is not None:\n",
    "        print(f\"Opening ImageJ from {imagej_dir}\")\n",
    "        ij = imagej.init(imagej_dir, mode='interactive')\n",
    "    else:\n",
    "        raise FileNotFoundError(\"No imageJ dir given, use download ImageJ=True\")\n",
    "    print(\"Created ImageJ instance\", ij.getVersion()) \n",
    "else:\n",
    "    print(f\"ImageJ instance already exists ({ij.getVersion()})\")\n"
   ]
  },
  {
   "cell_type": "code",
   "execution_count": 22,
   "id": "1bc78d93-3f9e-41de-a9a9-913782e8df9a",
   "metadata": {},
   "outputs": [],
   "source": [
    "# Define the parameters\n",
    "params = {\n",
    "    \"select\": \"A:/leo/micromanager/bone_marrow_2nd/aml/data/deskewed_20250122-222922/pos_p0000/dataset.xml\",\n",
    "    \"process_angle\": \"[All angles]\",\n",
    "    \"process_channel\": \"[All channels]\",\n",
    "    \"process_illumination\": \"[All illuminations]\",\n",
    "    \"process_tile\": \"[All tiles]\",\n",
    "    \"process_timepoint\": \"[All Timepoints]\",\n",
    "    \"bounding_box\": \"[Currently Selected Views]\",\n",
    "    \"downsampling\": \"4\",\n",
    "    \"interpolation\": \"[Linear Interpolation]\",\n",
    "    \"fusion_type\": \"[Avg, Blending]\",\n",
    "    \"pixel_type\": \"[16-bit unsigned integer]\",\n",
    "    \"interest_points_for_non_rigid\": \"[-= Disable Non-Rigid =-]\",\n",
    "    \"produce\": \"[Each timepoint & channel]\",\n",
    "    \"fused_image\": \"[Save as (compressed) TIFF stacks]\",\n",
    "    \"define_input\": \"[Auto-load from input data (values shown below)]\",\n",
    "    \"output_file_directory\": \"A:/leo/micromanager/bone_marrow_2nd/aml/data/deskewed_20250122-222922/pos_p0000\",\n",
    "    \"filename_addition\": \"[pyimagej]\"\n",
    "}\n",
    "\n",
    "jparams = ij.py.to_java(params)\n",
    "jparams = ij.py.jargs(params)\n",
    "\n",
    "# Run the Image Fusion command with the parameters\n",
    "result = ij.py.run_plugin(\"Image Fusion\", params)  # this line works!"
   ]
  },
  {
   "cell_type": "code",
   "execution_count": 23,
   "id": "4a339f86-9170-4ad9-9e21-a1dc829eb594",
   "metadata": {},
   "outputs": [],
   "source": [
    "macro = \"\"\"\n",
    "run(\"Image Fusion\", \"select=A:/leo/micromanager/bone_marrow_2nd/aml/data/deskewed_20250122-222922/pos_p0000/dataset.xml process_angle=[All angles] process_channel=[All channels] process_illumination=[All illuminations] process_tile=[All tiles] process_timepoint=[All Timepoints] bounding_box=[Currently Selected Views] downsampling=4 interpolation=[Linear Interpolation] fusion_type=[Avg, Blending] pixel_type=[16-bit unsigned integer] interest_points_for_non_rigid=[-= Disable Non-Rigid =-] produce=[Each timepoint & channel] fused_image=[Save as (compressed) TIFF stacks] define_input=[Auto-load from input data (values shown below)] output_file_directory=A:/leo/micromanager/bone_marrow_2nd/aml/data/deskewed_20250122-222922/pos_p0000 filename_addition=[pyimagej]\");\n",
    "\"\"\"\n",
    "\n",
    "macro = \"\"\"\n",
    "run(\"Image Fusion\", \"select=A:\\\\\\\\leo\\\\\\\\micromanager\\\\\\\\bone_marrow_2nd\\\\\\\\aml\\\\\\\\data\\\\\\\\deskewed_20250122-222922\\\\\\\\pos_p0000\\\\\\\\dataset.xml process_angle=[All angles] process_channel=[All channels] process_illumination=[All illuminations] process_tile=[All tiles] process_timepoint=[All Timepoints] bounding_box=[Currently Selected Views] downsampling=4 interpolation=[Linear Interpolation] fusion_type=[Avg, Blending] pixel_type=[16-bit unsigned integer] interest_points_for_non_rigid=[-= Disable Non-Rigid =-] produce=[Each timepoint & channel] fused_image=[Save as (compressed) TIFF stacks] define_input=[Auto-load from input data (values shown below)] output_file_directory=A:\\\\\\\\leo\\\\\\\\micromanager\\\\\\\\bone_marrow_2nd\\\\\\\\aml\\\\\\\\data\\\\\\\\deskewed_20250122-222922\\\\\\\\pos_p0000 filename_addition=[pyimagej]\");\"\"\"\n",
    "result = ij.py.run_macro(macro)\n",
    "\n",
    "result = ij.py.run_plugin(\"Image Fusion\", params)  # this line works!"
   ]
  },
  {
   "cell_type": "code",
   "execution_count": 7,
   "id": "20b0a04e-fe47-4c42-b8f6-f3d9764eac70",
   "metadata": {},
   "outputs": [],
   "source": []
  },
  {
   "cell_type": "code",
   "execution_count": null,
   "id": "ba75b833-b410-457f-8e24-fcccca20e1dc",
   "metadata": {},
   "outputs": [],
   "source": []
  }
 ],
 "metadata": {
  "kernelspec": {
   "display_name": "Python 3 (ipykernel)",
   "language": "python",
   "name": "python3"
  },
  "language_info": {
   "codemirror_mode": {
    "name": "ipython",
    "version": 3
   },
   "file_extension": ".py",
   "mimetype": "text/x-python",
   "name": "python",
   "nbconvert_exporter": "python",
   "pygments_lexer": "ipython3",
   "version": "3.13.1"
  }
 },
 "nbformat": 4,
 "nbformat_minor": 5
}
