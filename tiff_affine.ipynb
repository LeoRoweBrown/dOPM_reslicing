{
 "cells": [
  {
   "cell_type": "code",
   "execution_count": 1,
   "metadata": {},
   "outputs": [],
   "source": [
    "import h5py\n",
    "import numpy as np\n",
    "# import matplotlib.pyplot as plt\n",
    "from tifffile import imwrite, imread, tiffcomment, TiffFile\n",
    "from ome_types import from_tiff\n",
    "from glob import glob\n",
    "import os\n",
    "import affine_matrices\n",
    "from scipy.ndimage import affine_transform\n",
    "from timeit import default_timer as timer"
   ]
  },
  {
   "cell_type": "code",
   "execution_count": 2,
   "metadata": {},
   "outputs": [],
   "source": [
    "## define affine matrices for deskewing\n",
    "\n",
    "def deskew(opm_angle, size_x, size_z):\n",
    "    matrix_1_iso = affine_matrices.scale_matrix(sz=size_z/size_x)  # scale like in MVR calibration\n",
    "    matrix_2_rot = affine_matrices.rotation_matrix(theta=np.pi*90/180, axis='x')  # make so stack direction is y not z(prime) like in lab\n",
    "    matrix_3_scale = affine_matrices.scale_matrix(sz=np.sin(opm_angle))  # scale before shear to preserve aspect ratio\n",
    "    matrix_4_shear = affine_matrices.skew_matrix(opm_angle)  # shear to deskew\n",
    "\n",
    "    total_matrix = matrix_4_shear @ matrix_3_scale @ matrix_2_rot @ matrix_1_iso\n",
    "    return total_matrix\n"
   ]
  },
  {
   "cell_type": "code",
   "execution_count": 4,
   "metadata": {},
   "outputs": [
    {
     "name": "stdout",
     "output_type": "stream",
     "text": [
      "['C:/Users/lnr19/Documents/y_stage_scan_20241216-171205_c0p0\\\\dOPM_t0000_p0000_z0000_c0000_view1\\\\HamamatsuHam_DCAM-dopm\\\\HamamatsuHam_DCAM-dopm_MMStack.ome.tif', 'C:/Users/lnr19/Documents/y_stage_scan_20241216-171205_c0p0\\\\dOPM_t0000_p0000_z0000_c0000_view1\\\\HamamatsuHam_DCAM-dopm\\\\HamamatsuHam_DCAM-dopm_MMStack_1.ome.tif', 'C:/Users/lnr19/Documents/y_stage_scan_20241216-171205_c0p0\\\\dOPM_t0000_p0000_z0000_c0000_view1\\\\HamamatsuHam_DCAM-dopm\\\\HamamatsuHam_DCAM-dopm_MMStack_2.ome.tif', 'C:/Users/lnr19/Documents/y_stage_scan_20241216-171205_c0p0\\\\dOPM_t0000_p0000_z0000_c0000_view1\\\\HamamatsuHam_DCAM-dopm\\\\HamamatsuHam_DCAM-dopm_MMStack_3.ome.tif']\n",
      "size_x 2304\n",
      "size_y 2304\n",
      "size_z 1600\n",
      "loading C:/Users/lnr19/Documents/y_stage_scan_20241216-171205_c0p0\\dOPM_t0000_p0000_z0000_c0000_view1\\HamamatsuHam_DCAM-dopm\\HamamatsuHam_DCAM-dopm_MMStack.ome.tif\n",
      "<tifffile.TiffPages @9950>\n",
      "loading C:/Users/lnr19/Documents/y_stage_scan_20241216-171205_c0p0\\dOPM_t0000_p0000_z0000_c0000_view1\\HamamatsuHam_DCAM-dopm\\HamamatsuHam_DCAM-dopm_MMStack_1.ome.tif\n",
      "<tifffile.TiffPages @9950>\n",
      "loading C:/Users/lnr19/Documents/y_stage_scan_20241216-171205_c0p0\\dOPM_t0000_p0000_z0000_c0000_view1\\HamamatsuHam_DCAM-dopm\\HamamatsuHam_DCAM-dopm_MMStack_2.ome.tif\n",
      "<tifffile.TiffPages @9950>\n",
      "loading C:/Users/lnr19/Documents/y_stage_scan_20241216-171205_c0p0\\dOPM_t0000_p0000_z0000_c0000_view1\\HamamatsuHam_DCAM-dopm\\HamamatsuHam_DCAM-dopm_MMStack_3.ome.tif\n",
      "<tifffile.TiffPages @9950>\n",
      "Read time 228.66389229998458 ms\n",
      "(2304, 2304, 1600)\n"
     ]
    },
    {
     "ename": "NameError",
     "evalue": "name 'chunk_size_xy' is not defined",
     "output_type": "error",
     "traceback": [
      "\u001b[1;31m---------------------------------------------------------------------------\u001b[0m",
      "\u001b[1;31mNameError\u001b[0m                                 Traceback (most recent call last)",
      "Cell \u001b[1;32mIn[4], line 52\u001b[0m\n\u001b[0;32m     50\u001b[0m chunk_size_x \u001b[38;5;241m=\u001b[39m \u001b[38;5;241m100\u001b[39m\n\u001b[0;32m     51\u001b[0m chunk_size_y \u001b[38;5;241m=\u001b[39m \u001b[38;5;241m100\u001b[39m\n\u001b[1;32m---> 52\u001b[0m n_chunks_x \u001b[38;5;241m=\u001b[39m size_x\u001b[38;5;241m/\u001b[39m\u001b[38;5;241m/\u001b[39m\u001b[43mchunk_size_xy\u001b[49m\n\u001b[0;32m     53\u001b[0m n_chunks_y \u001b[38;5;241m=\u001b[39m size_y\u001b[38;5;241m/\u001b[39m\u001b[38;5;241m/\u001b[39mchunk_size_xy\n\u001b[0;32m     55\u001b[0m \u001b[38;5;28;01mfor\u001b[39;00m i \u001b[38;5;129;01min\u001b[39;00m \u001b[38;5;28mrange\u001b[39m(n_chunks_x):\n",
      "\u001b[1;31mNameError\u001b[0m: name 'chunk_size_xy' is not defined"
     ]
    }
   ],
   "source": [
    "tiff_data_dir = \"C:/Users/lnr19/Documents/y_stage_scan_20241216-171205_c0p0/\"\n",
    "out_dir = \"C:/Users/lnr19/Documents/y_stage_scan_20241216-171205_c0p0/deskewed/\"\n",
    "folder_name = \"HamamatsuHam_DCAM-dopm\"\n",
    "# print(tiff_data_dir)\n",
    "# print(os.listdir(tiff_data_dir))\n",
    "tiff_dirs = glob(os.path.join(tiff_data_dir, \"dOPM*\"))\n",
    "for tiff_dir in tiff_dirs:\n",
    "    tiff_dir_basename = os.path.basename(tiff_dir)\n",
    "    stack_dir = os.path.join(tiff_data_dir, tiff_dir, folder_name)  # dir containg the tiff stacks\n",
    "    # print(stack_dir)\n",
    "    stacks = glob(os.path.join(stack_dir, \"*.tif\"))\n",
    "    print(stacks)\n",
    "    omexml = from_tiff(stacks[0])\n",
    "    iminfo = omexml.images[0]\n",
    "\n",
    "    size_x = iminfo.pixels.size_x\n",
    "    size_y = iminfo.pixels.size_y\n",
    "    size_z = len(omexml.images)\n",
    "    vox_size_x_um = iminfo.pixels.physical_size_x\n",
    "    vox_size_y_um = iminfo.pixels.physical_size_y\n",
    "    vox_size_z_um = iminfo.pixels.physical_size_z\n",
    "\n",
    "    print(\"size_x\", size_x)\n",
    "    print(\"size_y\", size_y)\n",
    "    print(\"size_z\", size_z)\n",
    "    \n",
    "    imstack = np.zeros((size_x, size_y, size_z), dtype=np.uint16)\n",
    "\n",
    "    start_time = timer()\n",
    "\n",
    "    offset = 0\n",
    "    for i in range(len(stacks)):\n",
    "        print(\"loading\",  stacks[i])\n",
    "        with TiffFile(stacks[i]) as tif:\n",
    "            print(tif.pages)\n",
    "            for n, page in enumerate(tif.pages):\n",
    "                # print(\"page\", n)\n",
    "                imstack[:,:,n+offset] = page.asarray().T\n",
    "        offset += n+1\n",
    "\n",
    "    end_time = timer()\n",
    "    print(\"Read time\", (end_time-start_time), \"ms\")\n",
    "\n",
    "    #imstack = imread(stacks[0])\n",
    "    print(np.shape(imstack))\n",
    "    affine_matrix = deskew(opm_angle=45*np.pi/180, size_x=size_x, size_z=size_z)\n",
    "    start_time = timer()\n",
    "\n",
    "    ## chunk the affines to improve performance, only in xy\n",
    "    chunk_size_x = 100\n",
    "    chunk_size_y = 100\n",
    "    n_chunks_x = size_x//chunk_size_x\n",
    "    n_chunks_y = size_y//chunk_size_y\n",
    "\n",
    "    for i in range(n_chunks_x):\n",
    "        for j in range(n_chunks_y):\n",
    "            # counter for chunks\n",
    "            print(f\"chunk {i}, {j} out of {n_chunks_x}, {n_chunks_y}\")\n",
    "            # adjust chunk size for last chunk\n",
    "            chunk_size_x_ = chunk_size_x if i < n_chunks_x-1 else size_x - i*chunk_size_x\n",
    "            chunk_size_y_ = chunk_size_y if j < n_chunks_y-1 else size_y - j*chunk_size_y\n",
    "\n",
    "            chunk = imstack[i*chunk_size_x_:(i+1)*chunk_size_x_, j*chunk_size_y_:(j+1)*chunk_size_y_, :]\n",
    "            chunk_transformed = affine_transform(chunk, affine_matrix)\n",
    "            imstack[i*chunk_size_x_:(i+1)*chunk_size_x_, j*chunk_size_y_:(j+1)*chunk_size_y_, :] = chunk_transformed\n",
    "\n",
    "    imwrite(os.path.join(outdir,f\"deskewed{tiff_dir_basename}.tif\"), imstack)\n",
    "\n",
    "    transformed = affine_transform(imstack, affine_matrix)\n",
    "    end_time = timer()\n",
    "    print(\"Transform time\", (end_time-start_time), \"ms\")\n",
    "    \n",
    "\n",
    "\n",
    "    # affine_transform\n",
    "\n",
    "    ## ome_types reads SizeX, SizeY, SizeZ as size_x etc., i.e. it converts from camel case to snake case\n",
    "    print(iminfo)\n",
    "    \n"
   ]
  },
  {
   "cell_type": "code",
   "execution_count": 39,
   "metadata": {},
   "outputs": [
    {
     "name": "stdout",
     "output_type": "stream",
     "text": [
      "Transform time 1420.5133053999161 ms\n"
     ]
    }
   ],
   "source": [
    "affine_matrix = deskew(opm_angle=45*np.pi/180, size_x=size_x, size_z=size_z)\n",
    "start_time = timer()\n",
    "transformed = affine_transform(imstack[0:500,0:500,0:1600], affine_matrix)\n",
    "end_time = timer()\n",
    "print(\"Transform time\", (end_time-start_time), \"ms\")\n"
   ]
  },
  {
   "cell_type": "code",
   "execution_count": 40,
   "metadata": {},
   "outputs": [],
   "source": [
    "imwrite(\"D:/y_stage_scan_20241216-171205_c0p0/transformed.tif\", transformed, imagej=True, resolution=(1/vox_size_x_um, 1/vox_size_y_um), metadata={'spacing': vox_size_z_um, 'unit': 'um', 'axes': 'XYZ', 'hyperstack': 'true', 'mode': 'composite'})"
   ]
  },
  {
   "cell_type": "code",
   "execution_count": 16,
   "metadata": {},
   "outputs": [
    {
     "data": {
      "text/plain": [
       "1600"
      ]
     },
     "execution_count": 16,
     "metadata": {},
     "output_type": "execute_result"
    }
   ],
   "source": [
    "dir(iminfo)\n",
    "size_x = iminfo.pixels.size_x\n",
    "size_y = iminfo.pixels.size_y\n",
    "size_z = iminfo.pixels.size_z\n",
    "vox_size_x = iminfo.pixels.physical_size_x\n",
    "vox_size_y = iminfo.pixels.physical_size_y\n",
    "vox_size_z = iminfo.pixels.physical_size_z\n",
    "\n",
    "len(omexml.images)"
   ]
  },
  {
   "cell_type": "code",
   "execution_count": 27,
   "metadata": {},
   "outputs": [
    {
     "data": {
      "text/plain": [
       "(10, 50, 100)"
      ]
     },
     "execution_count": 27,
     "metadata": {},
     "output_type": "execute_result"
    }
   ],
   "source": [
    "imread(\"D:\\\\testforpy.tif\").shape   # z, y, x"
   ]
  },
  {
   "cell_type": "code",
   "execution_count": 25,
   "metadata": {},
   "outputs": [
    {
     "data": {
      "text/plain": [
       "(1600, 2304, 2304)"
      ]
     },
     "execution_count": 25,
     "metadata": {},
     "output_type": "execute_result"
    }
   ],
   "source": [
    "imstack.shape"
   ]
  },
  {
   "cell_type": "code",
   "execution_count": 2,
   "metadata": {},
   "outputs": [
    {
     "name": "stdout",
     "output_type": "stream",
     "text": [
      "[[1.   0.   0.   0.  ]\n",
      " [0.75 1.   0.   0.  ]\n",
      " [0.   0.   1.   0.  ]\n",
      " [0.   0.   0.   1.  ]]\n"
     ]
    },
    {
     "data": {
      "text/plain": [
       "np.float64(1.0)"
      ]
     },
     "execution_count": 2,
     "metadata": {},
     "output_type": "execute_result"
    }
   ],
   "source": [
    "\n",
    "skewmat = affine_matrices.skew_matrix(0,0.75)\n",
    "print(skewmat)\n",
    "np.linalg.det(skewmat)"
   ]
  }
 ],
 "metadata": {
  "kernelspec": {
   "display_name": "dopm",
   "language": "python",
   "name": "python3"
  },
  "language_info": {
   "codemirror_mode": {
    "name": "ipython",
    "version": 3
   },
   "file_extension": ".py",
   "mimetype": "text/x-python",
   "name": "python",
   "nbconvert_exporter": "python",
   "pygments_lexer": "ipython3",
   "version": "3.13.1"
  }
 },
 "nbformat": 4,
 "nbformat_minor": 2
}
