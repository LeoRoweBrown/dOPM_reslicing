{
 "cells": [
  {
   "cell_type": "code",
   "execution_count": 1,
   "id": "075f2b48-7075-4911-98bc-1a7655189a6d",
   "metadata": {},
   "outputs": [],
   "source": [
    "import subprocess"
   ]
  },
  {
   "cell_type": "code",
   "execution_count": 35,
   "id": "34a7cb35-e4ac-4432-a8dc-37a50f2d4126",
   "metadata": {},
   "outputs": [
    {
     "name": "stdout",
     "output_type": "stream",
     "text": [
      "G:/Data/dOPM_leo/leo_imagej/fiji-win64/fiji-win64/Fiji.app/ImageJ-win64.exe --ij2 --headless --console --run ./testmacro.ijm \"param='leo', param2='rules'\n"
     ]
    },
    {
     "data": {
      "text/plain": [
       "CompletedProcess(args='G:/Data/dOPM_leo/leo_imagej/fiji-win64/fiji-win64/Fiji.app/ImageJ-win64.exe --ij2 --headless --console --run ./testmacro.ijm \"param=\\'leo\\', param2=\\'rules\\'', returncode=0)"
      ]
     },
     "execution_count": 35,
     "metadata": {},
     "output_type": "execute_result"
    }
   ],
   "source": [
    "image_exe = \"G:/Data/dOPM_leo/leo_imagej/fiji-win64/fiji-win64/Fiji.app/ImageJ-win64.exe\"\n",
    "cmd = f\"{image_exe} --ij2 --headless --console --run ./testmacro.ijm \\\"param='leo', param2='rules'\"\n",
    "cmd2 = f\"{image_exe} --ij2 --headless --console --run ./testmacro.ijm [param='leo', param2='rules']\"\n",
    "\n",
    "cmd3 = f\"{image_exe} --ij2 --headless --console --run ./testmacro2.ijm\"\n",
    "\n",
    "print(cmd)\n",
    "# subprocess.run(\"dir\", cwd=\"G:/Data/dOPM_leo/dOPM_reslicing\", shell=True)\n",
    "# subprocess.run(cmd, cwd=\"G:/Data/dOPM_leo/dOPM_reslicing\")\n",
    "subprocess.run(cmd, cwd=\"G:/Data/dOPM_leo/dOPM_reslicing\")"
   ]
  },
  {
   "cell_type": "code",
   "execution_count": null,
   "id": "abdcfc28-9425-44df-9e97-7a2c3f4e2920",
   "metadata": {},
   "outputs": [],
   "source": []
  }
 ],
 "metadata": {
  "kernelspec": {
   "display_name": "Python 3 (ipykernel)",
   "language": "python",
   "name": "python3"
  },
  "language_info": {
   "codemirror_mode": {
    "name": "ipython",
    "version": 3
   },
   "file_extension": ".py",
   "mimetype": "text/x-python",
   "name": "python",
   "nbconvert_exporter": "python",
   "pygments_lexer": "ipython3",
   "version": "3.12.8"
  }
 },
 "nbformat": 4,
 "nbformat_minor": 5
}
